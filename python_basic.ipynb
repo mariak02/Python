{
  "nbformat": 4,
  "nbformat_minor": 0,
  "metadata": {
    "colab": {
      "provenance": []
    },
    "kernelspec": {
      "name": "python3",
      "display_name": "Python 3"
    },
    "language_info": {
      "name": "python"
    }
  },
  "cells": [
    {
      "cell_type": "markdown",
      "source": [
        "# **Python Basic**\n",
        "### **Source Code - Translator - Byte Code - Interpreter - Machine Code**\n",
        "It's a general purpose, Interpreted, High level and Dynamically type programming language, which also supports OOPs paradigm."
      ],
      "metadata": {
        "id": "ioMXa_1j9arP"
      }
    },
    {
      "cell_type": "code",
      "source": [
        "print(\"Hello World !\")"
      ],
      "metadata": {
        "colab": {
          "base_uri": "https://localhost:8080/"
        },
        "id": "9KxOoI9zCGAE",
        "outputId": "3915dd0a-8070-4b69-e76d-2d462d585558"
      },
      "execution_count": null,
      "outputs": [
        {
          "output_type": "stream",
          "name": "stdout",
          "text": [
            "Hello World !\n"
          ]
        }
      ]
    },
    {
      "cell_type": "code",
      "source": [
        "# multiline string\n",
        "print(\n",
        "'''Multiline\n",
        "String\n",
        "Example''')\n",
        "print(\"=========\")\n",
        "# using line continuation character (\\)\n",
        "print(\n",
        "'''Multiline \\\n",
        "String \\\n",
        "Example''')"
      ],
      "metadata": {
        "colab": {
          "base_uri": "https://localhost:8080/"
        },
        "id": "f5nIIdP1F16C",
        "outputId": "4414e814-cc74-452a-9a63-d9817813743c"
      },
      "execution_count": null,
      "outputs": [
        {
          "output_type": "stream",
          "name": "stdout",
          "text": [
            "Multiline\n",
            "String\n",
            "Example\n",
            "=========\n",
            "Multiline String Example\n"
          ]
        }
      ]
    },
    {
      "cell_type": "code",
      "source": [
        "# Multiple Statements on a Single Line using semicolon(;)\n",
        "\n",
        "x = 10; y = 20; add = x + y; add"
      ],
      "metadata": {
        "colab": {
          "base_uri": "https://localhost:8080/"
        },
        "id": "Zr0NFNclJDTy",
        "outputId": "0fc3c779-9038-4909-b7b0-83b21ab9a1bf"
      },
      "execution_count": null,
      "outputs": [
        {
          "output_type": "execute_result",
          "data": {
            "text/plain": [
              "30"
            ]
          },
          "metadata": {},
          "execution_count": 54
        }
      ]
    },
    {
      "cell_type": "markdown",
      "source": [
        "# **Variable**\n",
        "variables are the reserved memory locations used to store values\n",
        "\n",
        " = assignment operators bind the value/object with the lable\n",
        "\n",
        " naming pattern is snake case for variables [ex- first_name]"
      ],
      "metadata": {
        "id": "U7WW1zVH99cl"
      }
    },
    {
      "cell_type": "code",
      "execution_count": null,
      "metadata": {
        "colab": {
          "base_uri": "https://localhost:8080/"
        },
        "id": "X5XGfCjo9XtO",
        "outputId": "03d7916a-386f-4416-efe7-b3ad01241d2b"
      },
      "outputs": [
        {
          "output_type": "execute_result",
          "data": {
            "text/plain": [
              "137693442663280"
            ]
          },
          "metadata": {},
          "execution_count": 55
        }
      ],
      "source": [
        "# id() give us the memory location\n",
        "cat = 'choco'\n",
        "id(cat)"
      ]
    },
    {
      "cell_type": "code",
      "source": [
        "# del keyword use to delete the variable\n",
        "sweet = 'barfi'\n",
        "# del sweet\n",
        "sweet\n",
        "# NameError: name 'sweet' is not defined"
      ],
      "metadata": {
        "colab": {
          "base_uri": "https://localhost:8080/",
          "height": 36
        },
        "id": "U6WAOJs-Kv1v",
        "outputId": "524cfceb-27c3-4c7d-b057-da4d961cae73"
      },
      "execution_count": null,
      "outputs": [
        {
          "output_type": "execute_result",
          "data": {
            "text/plain": [
              "'barfi'"
            ],
            "application/vnd.google.colaboratory.intrinsic+json": {
              "type": "string"
            }
          },
          "metadata": {},
          "execution_count": 56
        }
      ]
    },
    {
      "cell_type": "code",
      "source": [
        "# multiple value in multiple variable\n",
        "a = 1\n",
        "b = 2\n",
        "c = 3\n",
        "print(a, b, c)\n",
        "print()\n",
        "# we can do this in a single line\n",
        "a, b, c = 1, 2, 3\n",
        "print(a, b, c)"
      ],
      "metadata": {
        "colab": {
          "base_uri": "https://localhost:8080/"
        },
        "id": "Cg7Ca9IvMJxS",
        "outputId": "f2b4a598-8dc1-4657-a788-7e25b3b98f18"
      },
      "execution_count": null,
      "outputs": [
        {
          "output_type": "stream",
          "name": "stdout",
          "text": [
            "1 2 3\n",
            "\n",
            "1 2 3\n"
          ]
        }
      ]
    },
    {
      "cell_type": "code",
      "source": [
        "# single value in multiple variable\n",
        "print('a1, b1, c1 all of them is pointing/refering to the same object (100-int type object)')\n",
        "a1 = 100\n",
        "b1 = 100\n",
        "c1 = 100\n",
        "print(a1, b1, c1)\n",
        "print()\n",
        "print('we can do this in single line')\n",
        "a1 = b1 = c1 = 100\n",
        "print(a1, b1, c1)\n",
        "print()\n",
        "print('The label/variable name is pointing at same object/memory location: ', id(a1), id(b1), id(c1))\n",
        "print()\n",
        "# I change the b1 value, now it's pointing at other location where the value is 200\n",
        "b1 = 200\n",
        "print('i change b1 refernce to 200, b1 = ', b1)\n",
        "print(a1, b1, c1, id(a1), id(b1), id(c1))\n",
        "print()\n",
        "print('here a1 and c1 also pointing at 200, now 100 become unrefferd object bcz no one is pointing at 100 at the moment')\n",
        "a1 = c1 = 200\n",
        "print(a1, b1, c1, id(a1), id(b1), id(c1))\n",
        "print()\n",
        "print('id of 100 is: ', id(100), ', 100 become unrefferd, so the memory space occupied by 100 will be remove when garbage collector will run automatically')"
      ],
      "metadata": {
        "colab": {
          "base_uri": "https://localhost:8080/"
        },
        "id": "GWWvqdcwMuUv",
        "outputId": "1ae9f404-86eb-40d7-c3b9-9aa790638cb9"
      },
      "execution_count": null,
      "outputs": [
        {
          "output_type": "stream",
          "name": "stdout",
          "text": [
            "a1, b1, c1 all of them is pointing/refering to the same object (100-int type object)\n",
            "100 100 100\n",
            "\n",
            "we can do this in single line\n",
            "100 100 100\n",
            "\n",
            "The label/variable name is pointing at same object/memory location:  137694145957200 137694145957200 137694145957200\n",
            "\n",
            "i change b1 refernce to 200, b1 =  200\n",
            "100 200 100 137694145957200 137694145960400 137694145957200\n",
            "\n",
            "here a1 and c1 also pointing at 200, now 100 become unrefferd object bcz no one is pointing at 100 at the moment\n",
            "200 200 200 137694145960400 137694145960400 137694145960400\n",
            "\n",
            "id of 100 is:  137694145957200 , 100 become unrefferd, so the memory space occupied by 100 will be remove when garbage collector will run automatically\n"
          ]
        }
      ]
    },
    {
      "cell_type": "code",
      "source": [
        "# valid python vriable names\n",
        "# can't use : reserve word, specific symbol other than _ (underscore), numbers at the beginning\n",
        "_v = 100\n",
        "v123 = 100\n",
        "v_ = 100\n",
        "v_1 = 100\n",
        "print(_v, v123, v_, v_1)"
      ],
      "metadata": {
        "colab": {
          "base_uri": "https://localhost:8080/"
        },
        "id": "TujYrfPpNJ9L",
        "outputId": "ff79be8c-f357-4f1c-e98f-f1e1cfc156bc"
      },
      "execution_count": null,
      "outputs": [
        {
          "output_type": "stream",
          "name": "stdout",
          "text": [
            "100 100 100 100\n"
          ]
        }
      ]
    },
    {
      "cell_type": "markdown",
      "source": [
        "# **Data Types-** Type of a variable\n",
        "## **Data-**  data is the representation of a fact about a certain object\n",
        "\n",
        "\n",
        "*   Data of Students\n",
        "*   Data of books in Library\n",
        "*   Data of a store\n",
        "\n",
        "# **Python Data Types**\n",
        "1. Numeric - int, float, complex\n",
        "2. String - str\n",
        "3. Sequence - list, tuple, range\n",
        "4. Binary - bytes, bytearray, memoryview\n",
        "5. Mapping - dict\n",
        "6. Boolean - bool\n",
        "7. Set - set, frozenset\n",
        "8. None - NoneType\n",
        "\n",
        "list( ) -- list constructor"
      ],
      "metadata": {
        "id": "NRbrBVEjV7y5"
      }
    },
    {
      "cell_type": "markdown",
      "source": [
        "### **Python Numeric Data Type**\n",
        "### ***1. int***\n",
        "### ***2. float***\n",
        "### ***3. complex***"
      ],
      "metadata": {
        "id": "zPQ-jYRfePSY"
      }
    },
    {
      "cell_type": "code",
      "source": [
        "print('creating numeric variable by directly assigning the value')\n",
        "i = 20\n",
        "print(i, type(i))\n",
        "f = 345.90\n",
        "print(f, type(f))\n",
        "# x + yj\n",
        "c = 1 + 3j\n",
        "print(c, type(c))\n",
        "print()\n",
        "print('creating numeric variable by using constructor')\n",
        "i1 = int(f)\n",
        "print(i1, type(i1))\n",
        "f1 = float(i)\n",
        "print(f1, type(f1))\n",
        "c1 = complex(100)\n",
        "print(c1, type(c1))\n",
        "c2 = complex(12, 25)\n",
        "print(c2, type(c2))"
      ],
      "metadata": {
        "colab": {
          "base_uri": "https://localhost:8080/"
        },
        "id": "AN7E-2k3PtlH",
        "outputId": "4878a22c-2202-4cc9-de06-ac5ded7a5fbd"
      },
      "execution_count": null,
      "outputs": [
        {
          "output_type": "stream",
          "name": "stdout",
          "text": [
            "creating numeric variable by directly assigning the value\n",
            "20 <class 'int'>\n",
            "345.9 <class 'float'>\n",
            "(1+3j) <class 'complex'>\n",
            "\n",
            "creating numeric variable by using constructor\n",
            "345 <class 'int'>\n",
            "20.0 <class 'float'>\n",
            "(100+0j) <class 'complex'>\n",
            "(12+25j) <class 'complex'>\n"
          ]
        }
      ]
    },
    {
      "cell_type": "markdown",
      "source": [
        "### **Python Boolean Data Type**"
      ],
      "metadata": {
        "id": "mnzfNpl8hVVI"
      }
    },
    {
      "cell_type": "code",
      "source": [
        "is_raining = True\n",
        "print(is_raining, type(is_raining))\n",
        "is_fail = False\n",
        "print(is_fail, type(is_fail))"
      ],
      "metadata": {
        "colab": {
          "base_uri": "https://localhost:8080/"
        },
        "id": "XSihQhyGfVK8",
        "outputId": "d943e7fc-6742-4d58-e61b-cce8f7d44971"
      },
      "execution_count": null,
      "outputs": [
        {
          "output_type": "stream",
          "name": "stdout",
          "text": [
            "True <class 'bool'>\n",
            "False <class 'bool'>\n"
          ]
        }
      ]
    },
    {
      "cell_type": "markdown",
      "source": [
        "### **Python Sequence Data Type** iterable\n",
        "### ***1. str***\n",
        "### ***2. list***\n",
        "### ***3. tuple***\n",
        "### ***3. range***"
      ],
      "metadata": {
        "id": "AB54l4OIkDQH"
      }
    },
    {
      "cell_type": "code",
      "source": [
        "# str\n",
        "\n",
        "txt = 'Hello World!'\n",
        "print(txt, type(txt))\n",
        "print(txt[0])\n",
        "print(txt[0:5])\n",
        "print(txt[-6:-1])\n",
        "print('(+) concatenation operator: ', txt+\" \"+txt)\n",
        "print('(*) repetition operator: ', 3 * (' '+txt+' '))"
      ],
      "metadata": {
        "id": "48B-XwfzhsGs",
        "colab": {
          "base_uri": "https://localhost:8080/"
        },
        "outputId": "849181e4-8171-4ddf-b504-a51af6d67bf4"
      },
      "execution_count": null,
      "outputs": [
        {
          "output_type": "stream",
          "name": "stdout",
          "text": [
            "Hello World! <class 'str'>\n",
            "H\n",
            "Hello\n",
            "World\n",
            "(+) concatenation operator:  Hello World! Hello World!\n",
            "(*) repetition operator:   Hello World!  Hello World!  Hello World! \n"
          ]
        }
      ]
    },
    {
      "cell_type": "code",
      "source": [
        "# str constructor\n",
        "idn = 1234\n",
        "id = str(idn)\n",
        "print(str(id), type(id))"
      ],
      "metadata": {
        "colab": {
          "base_uri": "https://localhost:8080/"
        },
        "id": "2CKPYLWNlyBC",
        "outputId": "efa3984b-6ab8-429e-d3d1-93c4a5f4a7c0"
      },
      "execution_count": null,
      "outputs": [
        {
          "output_type": "stream",
          "name": "stdout",
          "text": [
            "1234 <class 'str'>\n"
          ]
        }
      ]
    },
    {
      "cell_type": "code",
      "source": [
        "# list\n",
        "info = ['Jane', 120, 2500.0, True]\n",
        "print(info, type(info))\n",
        "info1 = ['Jane']\n",
        "print(info1, type(info1))"
      ],
      "metadata": {
        "colab": {
          "base_uri": "https://localhost:8080/"
        },
        "id": "ApaTfp8BmQkn",
        "outputId": "e4bc9157-4048-4a98-996f-108284c7f35c"
      },
      "execution_count": null,
      "outputs": [
        {
          "output_type": "stream",
          "name": "stdout",
          "text": [
            "['Jane', 120, 2500.0, True] <class 'list'>\n",
            "['Jane'] <class 'list'>\n"
          ]
        }
      ]
    },
    {
      "cell_type": "code",
      "source": [
        "# list constructor\n",
        "l = list((1, 2, 3, 4))\n",
        "print(l, type(l))"
      ],
      "metadata": {
        "colab": {
          "base_uri": "https://localhost:8080/"
        },
        "id": "LotvkrmVt9q0",
        "outputId": "c8a1d70f-396e-4d58-b975-203a217a06f1"
      },
      "execution_count": null,
      "outputs": [
        {
          "output_type": "stream",
          "name": "stdout",
          "text": [
            "[1, 2, 3, 4] <class 'list'>\n"
          ]
        }
      ]
    },
    {
      "cell_type": "code",
      "source": [
        "# tuple\n",
        "t = ('Jane', 120, 2500.0, True)\n",
        "print(t, type(t))\n",
        "t1 = ('Jane')\n",
        "# t1 = ('Jane',)\n",
        "print(t1, type(t1))"
      ],
      "metadata": {
        "colab": {
          "base_uri": "https://localhost:8080/"
        },
        "id": "2HGqMl-luRD-",
        "outputId": "39ff9329-82a1-4871-99ba-8cd218c7e4c3"
      },
      "execution_count": null,
      "outputs": [
        {
          "output_type": "stream",
          "name": "stdout",
          "text": [
            "('Jane', 120, 2500.0, True) <class 'tuple'>\n",
            "('Jane',) <class 'tuple'>\n"
          ]
        }
      ]
    },
    {
      "cell_type": "code",
      "source": [
        "# range\n",
        "# range(start, stop, step)\n",
        "print(range(10), type(range(10)))\n",
        "print(range(1, 11), type(range(1, 11)))\n",
        "print(range(1, 11, 2), type(range(1, 11, 2)))"
      ],
      "metadata": {
        "colab": {
          "base_uri": "https://localhost:8080/"
        },
        "id": "ui60-v65ur0l",
        "outputId": "2c53b7d6-6f9a-4ae0-f0f6-eea82457fb80"
      },
      "execution_count": null,
      "outputs": [
        {
          "output_type": "stream",
          "name": "stdout",
          "text": [
            "range(0, 10) <class 'range'>\n",
            "range(1, 11) <class 'range'>\n",
            "range(1, 11, 2) <class 'range'>\n"
          ]
        }
      ]
    },
    {
      "cell_type": "markdown",
      "source": [
        "### **Python Dictionary (mapping) Data Type**"
      ],
      "metadata": {
        "id": "ta8wvT5av0D8"
      }
    },
    {
      "cell_type": "code",
      "source": [
        "# key:value pairs\n",
        "dict = {1:'alex', 2:'bob', 3:'clara', 4:'daniel', 5:'felix'}\n",
        "print(dict, type(dict))\n",
        "print(dict.items())\n",
        "print(dict.values())\n",
        "print(dict.keys())"
      ],
      "metadata": {
        "colab": {
          "base_uri": "https://localhost:8080/"
        },
        "id": "r7iZYfdGv9va",
        "outputId": "746c823f-979d-4f39-b014-527bac1b4b2e"
      },
      "execution_count": null,
      "outputs": [
        {
          "output_type": "stream",
          "name": "stdout",
          "text": [
            "{1: 'alex', 2: 'bob', 3: 'clara', 4: 'daniel', 5: 'felix'} <class 'dict'>\n",
            "dict_items([(1, 'alex'), (2, 'bob'), (3, 'clara'), (4, 'daniel'), (5, 'felix')])\n",
            "dict_values(['alex', 'bob', 'clara', 'daniel', 'felix'])\n",
            "dict_keys([1, 2, 3, 4, 5])\n"
          ]
        }
      ]
    },
    {
      "cell_type": "markdown",
      "source": [
        "### **Python Set Data Type**\n",
        "### ***1. set***\n",
        "A set can store only immutable objects such as number (int, float, complex or bool), string or tuple.\n",
        "\n",
        "If you try to put a list or a dictionary in the set collection, Python raises a TypeError.\n",
        "\n",
        "TypeError: unhashable type: 'list'\n",
        "### ***2. frozenset***\n",
        "Here you can store mutable object too like list.\n"
      ],
      "metadata": {
        "id": "i8jApUPmwoZ0"
      }
    },
    {
      "cell_type": "code",
      "source": [
        "# set\n",
        "s = {1, 2,'jane', 2, 3, 4, 'jane'}\n",
        "print(s, type(s))"
      ],
      "metadata": {
        "colab": {
          "base_uri": "https://localhost:8080/"
        },
        "id": "miJ98KTHwe3n",
        "outputId": "cc9a8f16-4714-41a1-c65f-dbe20d29b1ea"
      },
      "execution_count": null,
      "outputs": [
        {
          "output_type": "stream",
          "name": "stdout",
          "text": [
            "{1, 2, 3, 4, 'jane'} <class 'set'>\n"
          ]
        }
      ]
    },
    {
      "cell_type": "code",
      "source": [
        "# set\n",
        "# s1 = {[2, 4, 5], 1, 2,'jane', 2, 3, 4, 'jane'}\n",
        "# print(s1, type(s1))\n",
        "\n",
        "# TypeError: unhashable type: 'list'"
      ],
      "metadata": {
        "id": "I5OoeRWYw7Po"
      },
      "execution_count": null,
      "outputs": []
    },
    {
      "cell_type": "code",
      "source": [
        "# frozenset\n",
        "fset = frozenset([1, 2, 3])\n",
        "print(fset, type(fset))"
      ],
      "metadata": {
        "colab": {
          "base_uri": "https://localhost:8080/"
        },
        "id": "uTyXeDxfwGeT",
        "outputId": "86dd838a-caf3-4440-f2ba-c4914d9d75f5"
      },
      "execution_count": null,
      "outputs": [
        {
          "output_type": "stream",
          "name": "stdout",
          "text": [
            "frozenset({1, 2, 3}) <class 'frozenset'>\n"
          ]
        }
      ]
    },
    {
      "cell_type": "markdown",
      "source": [
        "### **Python None Type**"
      ],
      "metadata": {
        "id": "xOIy_nEsxIDY"
      }
    },
    {
      "cell_type": "code",
      "source": [
        "value = None\n",
        "print(value, type(value))"
      ],
      "metadata": {
        "colab": {
          "base_uri": "https://localhost:8080/"
        },
        "id": "R6H5UxiSwi7Z",
        "outputId": "75362546-89a7-4ee9-dbf4-7c5bb55226a7"
      },
      "execution_count": null,
      "outputs": [
        {
          "output_type": "stream",
          "name": "stdout",
          "text": [
            "None <class 'NoneType'>\n"
          ]
        }
      ]
    },
    {
      "cell_type": "markdown",
      "source": [
        "# **Type Casting**\n",
        "Also called Type Conversion\n",
        "Changing one data type in to another data type.\n",
        "\n",
        "Python object with lesser byte site is upgraded to the bigger byte size of other object.\n",
        "##**Python supports Two type of casting-**\n",
        "### **1. Implicit-**\n",
        "Python interpreter automatically convert one data type to another.\n",
        "### **2. Explicit-**\n",
        "By using built-in function/constructor like int(), float() and str()"
      ],
      "metadata": {
        "id": "a9fKZSRRxkeY"
      }
    },
    {
      "cell_type": "code",
      "source": [
        "# implicit-automatic conversion\n",
        "# int upgraded to float type\n",
        "add = 10.0 + 1\n",
        "print(add, type(add))"
      ],
      "metadata": {
        "colab": {
          "base_uri": "https://localhost:8080/"
        },
        "id": "oe8RDJ8sxUE-",
        "outputId": "4dc50f32-8240-4ffa-ec48-515cdb2070dd"
      },
      "execution_count": null,
      "outputs": [
        {
          "output_type": "stream",
          "name": "stdout",
          "text": [
            "11.0 <class 'float'>\n"
          ]
        }
      ]
    },
    {
      "cell_type": "code",
      "source": [
        "# explicit-manual conversion\n",
        "# upgrading, degrading both possible\n",
        "add1 = int(12.0) + 1\n",
        "print(add1, type(add1))"
      ],
      "metadata": {
        "colab": {
          "base_uri": "https://localhost:8080/"
        },
        "id": "d6aHbC72496m",
        "outputId": "b9816e48-8546-47c4-8d13-009ae095321b"
      },
      "execution_count": null,
      "outputs": [
        {
          "output_type": "stream",
          "name": "stdout",
          "text": [
            "13 <class 'int'>\n"
          ]
        }
      ]
    },
    {
      "cell_type": "markdown",
      "source": [
        "# **Unicode Transformation Format (UTF)**\n",
        "### The default encoding for Python source code is UTF-8."
      ],
      "metadata": {
        "id": "rSk5Jz4K6zs9"
      }
    },
    {
      "cell_type": "code",
      "source": [
        "string = \"Hello\"\n",
        "tobytes = string.encode('utf-8')\n",
        "print (tobytes)\n",
        "string = tobytes.decode('utf-8')\n",
        "print (string)"
      ],
      "metadata": {
        "colab": {
          "base_uri": "https://localhost:8080/"
        },
        "id": "5w6m5AfL5bGn",
        "outputId": "87b6100e-9a7b-41b0-ff67-83ba1760ba0b"
      },
      "execution_count": null,
      "outputs": [
        {
          "output_type": "stream",
          "name": "stdout",
          "text": [
            "b'Hello'\n",
            "Hello\n"
          ]
        }
      ]
    },
    {
      "cell_type": "code",
      "source": [
        "string = \"\\u20B9\"\n",
        "print (string)\n",
        "tobytes = string.encode('utf-8')\n",
        "print (tobytes)\n",
        "string = tobytes.decode('utf-8')\n",
        "print (string)"
      ],
      "metadata": {
        "colab": {
          "base_uri": "https://localhost:8080/"
        },
        "id": "adRsVCKM7lZX",
        "outputId": "07c17037-5fc1-4545-d2c3-08c2a0ababb1"
      },
      "execution_count": null,
      "outputs": [
        {
          "output_type": "stream",
          "name": "stdout",
          "text": [
            "₹\n",
            "b'\\xe2\\x82\\xb9'\n",
            "₹\n"
          ]
        }
      ]
    },
    {
      "cell_type": "markdown",
      "source": [
        "# **Literals**\n",
        "value or a fixed value in our program.\n"
      ],
      "metadata": {
        "id": "-g5XsZsX86w5"
      }
    },
    {
      "cell_type": "code",
      "source": [
        "# integer literal 12\n",
        "lit = 12"
      ],
      "metadata": {
        "id": "W6BTHyMS_8Xt"
      },
      "execution_count": null,
      "outputs": []
    },
    {
      "cell_type": "markdown",
      "source": [
        "# **Constant**\n",
        "There is no any rule to declaring a constant in Python.\n",
        "\n",
        "We can indicate a variable to be treated as a constant by using all-caps names with underscores.\n",
        "\n",
        "ex- PI_VALUE (screaming snake(_) case)"
      ],
      "metadata": {
        "id": "1jpf9pow-Xc0"
      }
    },
    {
      "cell_type": "code",
      "source": [
        "# indicates that you don't want the variable to be redefined or changed in any way.\n",
        "PI_VALUE = 3.14"
      ],
      "metadata": {
        "id": "iitNJKzW7l2h"
      },
      "execution_count": null,
      "outputs": []
    },
    {
      "cell_type": "markdown",
      "source": [
        "# **Operators in Python**\n",
        "1. Arithmetic Operators\n",
        "2. Comparison (Relational) Operators\n",
        "3. Assignment Operators\n",
        "4. Logical Operators\n",
        "5. Bitwise Operators\n",
        "6. Membership Operators\n",
        "7. Identity Operators\n",
        "## **Operators Precedence**\n",
        "  1. Exponentiation **\n",
        "  2. Complement ~ | unary plus +@ | unary minus -@\n",
        "  3. Multiply, divide, modulo and floor division * / % //\n",
        "  4. Addition and subtraction + -\n",
        "  5. Right and left bitwise shift >> <<\n",
        "  6.\n"
      ],
      "metadata": {
        "id": "onWMhUyuAf17"
      }
    },
    {
      "cell_type": "markdown",
      "source": [
        "# **Comments**\n",
        "## **1. Single line (#)**\n",
        "## **2. Multi line**\n",
        "In Python, there is no provision to write multi-line comments.\n",
        "\n",
        "A triple quoted multi-line string is also treated as comment if it is not a docstring of a function or class."
      ],
      "metadata": {
        "id": "WebF5v0sDhiE"
      }
    },
    {
      "cell_type": "markdown",
      "source": [
        "# **User Input**\n",
        "When the interpreter encounters input() function, it waits for the user to enter data from the\n",
        "\n",
        "standard input stream (keyboard) till the Enter key is pressed.\n",
        "\n",
        "It store the value as string."
      ],
      "metadata": {
        "id": "Ldd54hgQEE97"
      }
    },
    {
      "cell_type": "code",
      "source": [
        "# input\n",
        "language = input('Enter your fav. prog. lang: ')"
      ],
      "metadata": {
        "colab": {
          "base_uri": "https://localhost:8080/"
        },
        "id": "hn0lcqppBI7q",
        "outputId": "ca979ab2-7015-4aa5-f7b3-1281d9514938"
      },
      "execution_count": null,
      "outputs": [
        {
          "name": "stdout",
          "output_type": "stream",
          "text": [
            "Enter your fav. prog. lang: python\n"
          ]
        }
      ]
    },
    {
      "cell_type": "markdown",
      "source": [
        "# **Python Basic Done**"
      ],
      "metadata": {
        "id": "uqt3pjbDFtek"
      }
    }
  ]
}