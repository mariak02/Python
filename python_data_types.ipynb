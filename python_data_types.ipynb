{
  "nbformat": 4,
  "nbformat_minor": 0,
  "metadata": {
    "colab": {
      "provenance": []
    },
    "kernelspec": {
      "name": "python3",
      "display_name": "Python 3"
    },
    "language_info": {
      "name": "python"
    }
  },
  "cells": [
    {
      "cell_type": "markdown",
      "source": [
        "# **Python Standard Data Type**"
      ],
      "metadata": {
        "id": "HgORlrfclRG2"
      }
    },
    {
      "cell_type": "markdown",
      "source": [
        "## **string**\n",
        "string is a immutable data type. we can't modify it's items like list after creation of string.\n",
        "\n",
        "But we can modify the string it will create a new one."
      ],
      "metadata": {
        "id": "rEQ8m0-nlYIc"
      }
    },
    {
      "cell_type": "code",
      "source": [
        "txt = 'Hello World'\n",
        "l_txt = list(txt)\n",
        "l_txt"
      ],
      "metadata": {
        "colab": {
          "base_uri": "https://localhost:8080/"
        },
        "id": "Q20j_WORmGJ_",
        "outputId": "e7e39922-c4c1-4335-f536-36a652cc5eea"
      },
      "execution_count": null,
      "outputs": [
        {
          "output_type": "execute_result",
          "data": {
            "text/plain": [
              "['H', 'e', 'l', 'l', 'o', ' ', 'W', 'o', 'r', 'l', 'd']"
            ]
          },
          "metadata": {},
          "execution_count": 7
        }
      ]
    },
    {
      "cell_type": "code",
      "source": [
        "l_txt[5] = 'space'\n",
        "l_txt"
      ],
      "metadata": {
        "colab": {
          "base_uri": "https://localhost:8080/"
        },
        "id": "OZ4tkkKVp5Ro",
        "outputId": "c2b661b2-490c-4f7a-8e43-1818b2bd7a10"
      },
      "execution_count": null,
      "outputs": [
        {
          "output_type": "execute_result",
          "data": {
            "text/plain": [
              "['H', 'e', 'l', 'l', 'o', 'space', 'W', 'o', 'r', 'l', 'd']"
            ]
          },
          "metadata": {},
          "execution_count": 8
        }
      ]
    },
    {
      "cell_type": "code",
      "source": [
        "ntxt = ' '.join(l_txt)\n",
        "ntxt"
      ],
      "metadata": {
        "colab": {
          "base_uri": "https://localhost:8080/",
          "height": 36
        },
        "id": "ttFA8x0VqJNY",
        "outputId": "e416f256-9a47-40ed-bc51-d75829b7713c"
      },
      "execution_count": null,
      "outputs": [
        {
          "output_type": "execute_result",
          "data": {
            "text/plain": [
              "'H e l l o space W o r l d'"
            ],
            "application/vnd.google.colaboratory.intrinsic+json": {
              "type": "string"
            }
          },
          "metadata": {},
          "execution_count": 14
        }
      ]
    },
    {
      "cell_type": "code",
      "source": [
        "txt"
      ],
      "metadata": {
        "colab": {
          "base_uri": "https://localhost:8080/",
          "height": 36
        },
        "id": "otfIVYLJqfVA",
        "outputId": "56ee8447-dba9-48f6-ba99-56b937b493cc"
      },
      "execution_count": null,
      "outputs": [
        {
          "output_type": "execute_result",
          "data": {
            "text/plain": [
              "'Hello World'"
            ],
            "application/vnd.google.colaboratory.intrinsic+json": {
              "type": "string"
            }
          },
          "metadata": {},
          "execution_count": 15
        }
      ]
    },
    {
      "cell_type": "code",
      "source": [
        "s = 'word'\n",
        "l = list(s)\n",
        "l.insert(3, 'l')\n",
        "print(f'old string: {s}')\n",
        "ns = ''.join(l)\n",
        "print(f'new string: {ns}')"
      ],
      "metadata": {
        "colab": {
          "base_uri": "https://localhost:8080/"
        },
        "id": "iIgiw1zbvpcz",
        "outputId": "8e17f3fa-856e-4e6c-8519-3137dc73b05f"
      },
      "execution_count": null,
      "outputs": [
        {
          "output_type": "stream",
          "name": "stdout",
          "text": [
            "old string: word\n",
            "new string: world\n"
          ]
        }
      ]
    },
    {
      "cell_type": "markdown",
      "source": [
        "**string methods**\n",
        "\n",
        "**Category**\n",
        "1. Case conversion\n",
        "2. Alignment\n",
        "3. Split and join\n",
        "4. Boolean\n",
        "5. Find and replace\n",
        "6. Formatting\n",
        "7. Translate"
      ],
      "metadata": {
        "id": "8YkazsX_xam4"
      }
    },
    {
      "cell_type": "code",
      "source": [
        "# case conversion\n",
        "text = 'hello world'\n",
        "text1 = 'Hello World'\n",
        "\n",
        "# 1. capitalize\n",
        "text.capitalize()\n",
        "\n",
        "# 2. lower\n",
        "text1.lower()\n",
        "\n",
        "# 3. upper\n",
        "text1.upper()\n",
        "\n",
        "# 4. title\n",
        "text.title()\n",
        "\n",
        "# 5. casefold\n",
        "text1.casefold() # convert into lower case\n",
        "\n",
        "# 6. swapcase\n",
        "text1.swapcase()"
      ],
      "metadata": {
        "colab": {
          "base_uri": "https://localhost:8080/",
          "height": 36
        },
        "id": "5clPoa1VwI9D",
        "outputId": "2e12f8eb-30b4-4230-d1b0-f94edb9c5806"
      },
      "execution_count": null,
      "outputs": [
        {
          "output_type": "execute_result",
          "data": {
            "text/plain": [
              "'hELLO wORLD'"
            ],
            "application/vnd.google.colaboratory.intrinsic+json": {
              "type": "string"
            }
          },
          "metadata": {},
          "execution_count": 9
        }
      ]
    },
    {
      "cell_type": "code",
      "source": [
        "# allignment\n",
        "text ='Hello World'\n",
        "\n",
        "# 1. center\n",
        "text.center(20, '*')\n",
        "\n",
        "# 2. ljust\n",
        "text.ljust(30, '#')\n",
        "\n",
        "# 3. rjust\n",
        "text.rjust(30, '#')\n",
        "\n",
        "# 4. expandtabs(tabsize = 8)\n",
        "etxt = 'Hello\\tWorld'\n",
        "etxt.expandtabs(tabsize=16)\n",
        "\n",
        "# 5. zfill(width)\n",
        "text.zfill(30)\n",
        "len(text)\n",
        "len(text.zfill(30))"
      ],
      "metadata": {
        "colab": {
          "base_uri": "https://localhost:8080/"
        },
        "id": "LBHyYq77xsGS",
        "outputId": "a27a4997-6130-48ab-a0a3-c8aab5b9fa9b"
      },
      "execution_count": null,
      "outputs": [
        {
          "output_type": "execute_result",
          "data": {
            "text/plain": [
              "30"
            ]
          },
          "metadata": {},
          "execution_count": 32
        }
      ]
    },
    {
      "cell_type": "code",
      "source": [
        "# split and join\n",
        "text = '     Hello Python world     \\ncode'\n",
        "\n",
        "text.lstrip()\n",
        "text.rstrip()\n",
        "text.strip()\n",
        "\n",
        "text.split()\n",
        "text.rsplit()\n",
        "text.splitlines()\n",
        "text.partition('o')\n",
        "t = text.rpartition('l')\n",
        "\n",
        "' '.join(t).strip()\n",
        "text.removeprefix('     ')\n",
        "text.removesuffix('code')\n",
        "\n"
      ],
      "metadata": {
        "id": "7LP4BKQS1KP8",
        "colab": {
          "base_uri": "https://localhost:8080/",
          "height": 36
        },
        "outputId": "83c03eb7-aa35-4c47-d0de-5ffaaa440c5f"
      },
      "execution_count": null,
      "outputs": [
        {
          "output_type": "execute_result",
          "data": {
            "text/plain": [
              "'     Hello Python world     \\n'"
            ],
            "application/vnd.google.colaboratory.intrinsic+json": {
              "type": "string"
            }
          },
          "metadata": {},
          "execution_count": 24
        }
      ]
    },
    {
      "cell_type": "code",
      "source": [
        "# boolean string methods\n",
        "text = 'Hello World'\n",
        "\n",
        "text.isalnum()\n",
        "text.isalpha()\n",
        "text.isdigit()\n",
        "text.islower()\n",
        "text.isnumeric()\n",
        "text.isspace()\n",
        "text.isupper()\n",
        "text.isascii()\n",
        "text.isdecimal()\n",
        "text.isidentifier()\n",
        "text.isprintable()"
      ],
      "metadata": {
        "colab": {
          "base_uri": "https://localhost:8080/"
        },
        "id": "chndWu1eAHpK",
        "outputId": "0df06b80-d86a-44b6-f16d-f845d3babe21"
      },
      "execution_count": null,
      "outputs": [
        {
          "output_type": "execute_result",
          "data": {
            "text/plain": [
              "True"
            ]
          },
          "metadata": {},
          "execution_count": 36
        }
      ]
    },
    {
      "cell_type": "code",
      "source": [
        "# find and replace method\n",
        "text = 'Hello World'\n",
        "\n",
        "text.count('l', 0, 10)\n",
        "text.find('o', 0, 10)\n",
        "text.rfind('o')\n",
        "text.index('H')\n",
        "text.rindex(' ')\n",
        "text.replace('H', 'J')\n",
        "text.startswith('python')\n",
        "text.endswith('d')"
      ],
      "metadata": {
        "colab": {
          "base_uri": "https://localhost:8080/"
        },
        "id": "SoggVsgbJ8sV",
        "outputId": "cacca74a-16ee-499f-f133-9aa9e75a15e0"
      },
      "execution_count": null,
      "outputs": [
        {
          "output_type": "execute_result",
          "data": {
            "text/plain": [
              "True"
            ]
          },
          "metadata": {},
          "execution_count": 48
        }
      ]
    },
    {
      "cell_type": "code",
      "source": [
        "# translate\n",
        "text.maketrans({'o':'l'})"
      ],
      "metadata": {
        "colab": {
          "base_uri": "https://localhost:8080/"
        },
        "id": "Es-19XoaNDUu",
        "outputId": "b4c4bb10-d633-4592-d6a9-0ef316dd1bf6"
      },
      "execution_count": null,
      "outputs": [
        {
          "output_type": "execute_result",
          "data": {
            "text/plain": [
              "{111: 'l'}"
            ]
          },
          "metadata": {},
          "execution_count": 58
        }
      ]
    },
    {
      "cell_type": "markdown",
      "source": [
        "###**String Done**"
      ],
      "metadata": {
        "id": "ynzs5MQYLYLq"
      }
    },
    {
      "cell_type": "markdown",
      "source": [
        "## **list**\n",
        "list is a mutable data type. we can modify list items.\n"
      ],
      "metadata": {
        "id": "MSX1zoeCQ7mq"
      }
    },
    {
      "cell_type": "markdown",
      "source": [
        "**list methods**\n",
        "\n",
        "**Category**\n",
        "1. Add items\n",
        "2. Remove items\n",
        "3. iterate\n",
        "4. comrehension\n",
        "5. sort\n",
        "6. copy\n",
        "7. join list"
      ],
      "metadata": {
        "id": "wnFumeB9RRyR"
      }
    },
    {
      "cell_type": "code",
      "source": [
        "num = [1, 2, 3, 4, 5]\n",
        "\n",
        "# append\n",
        "num.append(6)\n",
        "num\n",
        "\n",
        "# insert\n",
        "num.insert(2, 7)\n",
        "num\n",
        "\n",
        "# remove\n",
        "num.remove(7)\n",
        "num\n",
        "\n",
        "# pop\n",
        "num.pop()\n",
        "num\n",
        "\n",
        "# del keyword\n",
        "del num\n",
        "\n",
        "n = [1, 2, 3, 4, 5]\n",
        "\n",
        "# iterate\n",
        "# for i, v in enumerate(n):\n",
        "  # print(f'{i} : {v}')\n",
        "\n",
        "# comprehension\n",
        "l = [i for i in n]\n",
        "l = [i**2 for i in n]\n",
        "\n",
        "# condition in list comprehension\n",
        "l = [i for i in n if i%2 == 0]\n",
        "\n",
        "# membership operator in list comprehension\n",
        "l1 = [i for i in n if i in [1, 3, 7]]\n",
        "\n",
        "# nested for loop in list comprehension\n",
        "l = [(x, y) for x in n for y in [7]]\n",
        "\n",
        "# sort list1.sort(key, reverse)\n",
        "l = [12, 4, 16, 8, 10]\n",
        "l.sort()\n",
        "l.sort(reverse=True)\n",
        "\n",
        "l = [1, 2, 3, 4, 5, 6]\n",
        "def fun(i):\n",
        "  return i**2\n",
        "l.sort(key=fun)\n",
        "\n",
        "# copy make another list at another memory location\n",
        "n1 = [1, 2, 3]\n",
        "n2 = n1.copy()\n",
        "# print(id(n1), id(n2))\n",
        "\n",
        "# join list\n",
        "\n",
        "#concatenation\n",
        "n3 = n1 + n2\n",
        "\n",
        "# extend\n",
        "n2.extend(n1)\n",
        "\n",
        "# append\n",
        "odd = [1, 3, 5, 7]\n",
        "n4 = []\n",
        "[n4.append(x) for x in odd]\n",
        "n4\n",
        "\n",
        "# clear\n",
        "n4.clear()\n",
        "n4\n",
        "\n",
        "# count\n",
        "dup = [1, 1, 1, 2]\n",
        "dup.count(1)\n",
        "\n",
        "# index\n",
        "dup.index(2)"
      ],
      "metadata": {
        "colab": {
          "base_uri": "https://localhost:8080/"
        },
        "id": "WjaCx3PeO9tE",
        "outputId": "a410faac-2a6e-4261-be95-f551c4c7bdfd"
      },
      "execution_count": null,
      "outputs": [
        {
          "output_type": "execute_result",
          "data": {
            "text/plain": [
              "3"
            ]
          },
          "metadata": {},
          "execution_count": 133
        }
      ]
    },
    {
      "cell_type": "markdown",
      "source": [
        "###**list done**"
      ],
      "metadata": {
        "id": "q5Ke7znRmTFx"
      }
    },
    {
      "cell_type": "markdown",
      "source": [
        "##**tuples**\n",
        "1. concatenation\n",
        "2. repetition\n",
        "3. access and iterate\n",
        "4. modify the tuple using list constructor\n",
        "5. unpacking\n",
        "6. join tuples"
      ],
      "metadata": {
        "id": "HUBMs49umSE9"
      }
    },
    {
      "cell_type": "code",
      "source": [
        "t1 = (10, 20, 35)\n",
        "t2 = (40, 20, 30)\n",
        "\n",
        "# concatenation\n",
        "con = t1 + t2\n",
        "\n",
        "# repetition\n",
        "t1*2\n",
        "\n",
        "# membership\n",
        "20 in t1\n",
        "\n",
        "# access\n",
        "t1[1]\n",
        "\n",
        "# iterate\n",
        "[i for i in t1]\n",
        "\n",
        "# modify\n",
        "t1 = list(t1)\n",
        "t1.insert(2, 65)\n",
        "new_t1 = tuple(t1)\n",
        "new_t1\n",
        "\n",
        "# unpack\n",
        "a, b, c, d = new_t1\n",
        "a, *b = new_t1\n",
        "b\n",
        "\n",
        "# len\n",
        "len(new_t1)\n",
        "\n",
        "t3 = (1,2)\n",
        "t4 = (7,8)\n",
        "# join tuples using sum () that empty box is new tuple\n",
        "sum((t3, t4), ())\n",
        "\n",
        "# single item tuple\n",
        "t = (1,)\n",
        "type(t)\n",
        "\n",
        "# index\n",
        "t.index(1)\n",
        "\n",
        "# count\n",
        "con.count(20)"
      ],
      "metadata": {
        "colab": {
          "base_uri": "https://localhost:8080/"
        },
        "id": "TqZYo3cJRiMd",
        "outputId": "4a845879-8e1a-4e9c-f87e-b3ddc0439008"
      },
      "execution_count": null,
      "outputs": [
        {
          "output_type": "execute_result",
          "data": {
            "text/plain": [
              "2"
            ]
          },
          "metadata": {},
          "execution_count": 160
        }
      ]
    },
    {
      "cell_type": "markdown",
      "source": [
        "### **Tuple Done**"
      ],
      "metadata": {
        "id": "YzzV_GtUtXLG"
      }
    },
    {
      "cell_type": "markdown",
      "source": [
        "##**set**\n",
        "Can't pass list or any mutable object\n",
        "\n",
        "* TypeError: unhashable type: 'list'\n",
        "* TypeError: unhashable type: 'dict'\n",
        "* Hashing generates a unique number for an immutable item that enables quick search inside computer's memory.\n",
        "* Python has built-in hash() function. This function is not supported by list or dictionary.\n",
        "* Even though mutable objects are not stored in a set, set itself is a mutable object.\n",
        "* no duplicate value\n",
        "\n",
        "1. Add set items- add(), update(), union()\n",
        "2. Remove - remove(), discard(), pop(), difference(), difference_update(),  clear(), intersection(), intersection_update(), symmetric_difference(), symmetric_difference_update()\n",
        "3. iterate\n",
        "4. join sets- |, * unpacking operator\n",
        "5. copy\n",
        "6. |, &, -, ^,"
      ],
      "metadata": {
        "id": "3bRg81R0teCh"
      }
    },
    {
      "cell_type": "code",
      "source": [
        "# set\n",
        "s = {1, 2, (1, 2)}\n",
        "\n",
        "# add\n",
        "s.add(4)\n",
        "\n",
        "# update\n",
        "s.update({12, 11})\n",
        "\n",
        "# union   # won't update original set\n",
        "u = s.union({1, 2, 3})\n",
        "\n",
        "#\n",
        "u"
      ],
      "metadata": {
        "colab": {
          "base_uri": "https://localhost:8080/"
        },
        "id": "9MqwAJFvtons",
        "outputId": "f47a64ae-aeac-44f4-8039-6b41dda3b6b3"
      },
      "execution_count": null,
      "outputs": [
        {
          "output_type": "execute_result",
          "data": {
            "text/plain": [
              "{(1, 2), 1, 11, 12, 2, 3, 4}"
            ]
          },
          "metadata": {},
          "execution_count": 170
        }
      ]
    },
    {
      "cell_type": "markdown",
      "source": [
        "###**Set Done**"
      ],
      "metadata": {
        "id": "1rA4pOzqtas0"
      }
    },
    {
      "cell_type": "markdown",
      "source": [
        "##**frozen set**\n",
        "immutable version of set.\n",
        "Can't pass list or any mutable object\n",
        "\n"
      ],
      "metadata": {
        "id": "kSpt9VsHaLqG"
      }
    },
    {
      "cell_type": "code",
      "source": [
        "# Frozensets\n",
        "# initialize A and B\n",
        "A = frozenset([1, 2, 3, 4])\n",
        "B = frozenset([3, 4, 5, 6])\n",
        "\n",
        "# copying a frozenset\n",
        "C = A.copy() # Output: frozenset({1, 2, 3, 4})\n",
        "print(C)\n",
        "\n",
        "# union\n",
        "print(A.union(B)) # Output: frozenset({1, 2, 3, 4, 5, 6})\n",
        "\n",
        "# intersection\n",
        "print(A.intersection(B)) # Output: frozenset({3, 4})\n",
        "\n",
        "# difference\n",
        "print(A.difference(B)) # Output: frozenset({1, 2})\n",
        "\n",
        "# symmetric_difference\n",
        "print(A.symmetric_difference(B)) # Output: frozenset({1, 2, 5, 6})"
      ],
      "metadata": {
        "id": "L2q2GRrcdyS9",
        "colab": {
          "base_uri": "https://localhost:8080/"
        },
        "outputId": "44eed9a5-3175-4327-c4aa-66830a75cf45"
      },
      "execution_count": null,
      "outputs": [
        {
          "output_type": "stream",
          "name": "stdout",
          "text": [
            "frozenset({1, 2, 3, 4})\n",
            "frozenset({1, 2, 3, 4, 5, 6})\n",
            "frozenset({3, 4})\n",
            "frozenset({1, 2})\n",
            "frozenset({1, 2, 5, 6})\n"
          ]
        }
      ]
    },
    {
      "cell_type": "code",
      "source": [
        "# Frozensets\n",
        "# initialize A, B and C\n",
        "A = frozenset([1, 2, 3, 4])\n",
        "B = frozenset([3, 4, 5, 6])\n",
        "C = frozenset([5, 6])\n",
        "\n",
        "# isdisjoint() method\n",
        "print(A.isdisjoint(C))  # Output: True\n",
        "\n",
        "# issubset() method\n",
        "print(C.issubset(B))  # Output: True\n",
        "\n",
        "# issuperset() method\n",
        "print(B.issuperset(C))  # Output: True"
      ],
      "metadata": {
        "colab": {
          "base_uri": "https://localhost:8080/"
        },
        "id": "3pG_2eE1ILF3",
        "outputId": "658c250c-1da6-4f1b-b37e-27e8f5a6ce47"
      },
      "execution_count": null,
      "outputs": [
        {
          "output_type": "stream",
          "name": "stdout",
          "text": [
            "True\n",
            "True\n",
            "True\n"
          ]
        }
      ]
    },
    {
      "cell_type": "markdown",
      "source": [
        "###**FrozenSet Done**"
      ],
      "metadata": {
        "id": "-hyKmhaaH9Tx"
      }
    },
    {
      "cell_type": "markdown",
      "source": [
        "##**Dictionaries**\n",
        "unordered collection of items, which is basically a key value pair."
      ],
      "metadata": {
        "id": "vf8tixfzI4xl"
      }
    },
    {
      "cell_type": "code",
      "source": [
        "# empty dictionary\n",
        "my_dict = {}\n",
        "print(my_dict)\n",
        "\n",
        "# dictionary with keys as integers\n",
        "my_dict = {1: 'One', 2: 'Two', 3: 'Three'}\n",
        "print(my_dict)\n",
        "\n",
        "# dictionary with mixed keys\n",
        "my_dict = {'Name': 'John', 'Age': 24, 1: [2, 4, 3]}\n",
        "print(my_dict)\n",
        "\n",
        "# using dict()\n",
        "my_dict = dict({1:'One', 2:'Two'})\n",
        "print(my_dict)\n",
        "\n",
        "# from sequence having each item as a pair\n",
        "my_dict = dict([(1,'John'), (2,'David')])\n",
        "print(my_dict)\n",
        "\n",
        "\n",
        "# Python program to access elements from a dictionary\n",
        "my_dict = {'Name': 'Sean', 'Age': 24, 'Hobby': 'Dancing', 'City': 'NY'}\n",
        "\n",
        "# using square brackets\n",
        "print(my_dict['Name'])\n",
        "print(my_dict['Age'])\n",
        "\n",
        "# using get() method\n",
        "print(my_dict.get('Hobby'))\n",
        "\n",
        "# key not found\n",
        "print(my_dict.get('Salary'))\n",
        "\n",
        "# error raised when key not found\n",
        "# print(my_dict['Occupation'])\n",
        "\n",
        "\n",
        "# Python program to update/add elements in a dictionary\n",
        "my_dict = {'Car': 'Audi', 'Bike': 'Honda'}\n",
        "print('Original Dictionary:', my_dict)\n",
        "\n",
        "# updating value of an existing key\n",
        "my_dict['Bike'] = 'Ducati'\n",
        "print('Updated Dictionary:', my_dict)\n",
        "\n",
        "# adding new value\n",
        "my_dict['Plane'] = 'Boeing'\n",
        "print('Updated Dictionary:', my_dict)\n",
        "\n",
        "\n",
        "# Python program to remove/delete elements from a dictionary\n",
        "my_dict = {1: 'One', 2: 'Two', 3: 'Three', 4: 'Four', 5: 'Five'}\n",
        "print('Original Dictionary:', my_dict)\n",
        "\n",
        "# removing single element\n",
        "print(my_dict.pop(4))\n",
        "print('Updated Dictionary:', my_dict)\n",
        "\n",
        "# adding new value\n",
        "print(my_dict.popitem())\n",
        "print('Updated Dictionary:', my_dict)\n",
        "\n",
        "# remove all items\n",
        "my_dict.clear()\n",
        "print(my_dict)\n",
        "\n",
        "# delete the dictionary itself\n",
        "del my_dict\n",
        "# print(my_dict)\n",
        "\n",
        "\n",
        "# Dictionary Methods\n",
        "my_dict = {}\n",
        "age = my_dict.fromkeys(['John', 'Emily', 'Tina'], 20)\n",
        "print(age)\n",
        "\n",
        "print('Keys in the dictionary are:', list(age.keys()))\n",
        "print('Values in the dictionary are:', list(age.values()))\n",
        "\n",
        "print('Age value of John:', age.get('John'))\n",
        "\n",
        "\n",
        "# Dictionary Comprehension\n",
        "multiple = {x: x*2 for x in range(5)}\n",
        "print(multiple)\n",
        "\n",
        "\n",
        "# Membership Test for Dictionary Keys\n",
        "results = {'Sam': 'Pass', 'Zac': 'Pass', 'Lily': 'Fail', 'Casey': 'Pass'}\n",
        "\n",
        "print('Lily' in results)   # returns True\n",
        "print('Rocky' in results)  # returns False\n",
        "\n",
        "print('Ella' not in results)  # returns True\n",
        "\n",
        "# membership tests for key only not value, returns False\n",
        "print('Pass' in results)\n",
        "\n",
        "\n",
        "# Iterating through a Dictionary\n",
        "course = {'Sam': 'MBA', 'Zac': 'MS', 'Lily': 'BBA', 'Casey': 'Architecture'}\n",
        "\n",
        "for i in course:\n",
        "    print(course[i])\n",
        "print('')\n",
        "\n",
        "# printing keys and values\n",
        "for i,j in course.items():\n",
        "    print(i, '->', j)"
      ],
      "metadata": {
        "colab": {
          "base_uri": "https://localhost:8080/"
        },
        "id": "2FX8cep9HzoZ",
        "outputId": "af3b959e-9f1a-420a-b29f-2b2f76443adc"
      },
      "execution_count": null,
      "outputs": [
        {
          "output_type": "stream",
          "name": "stdout",
          "text": [
            "{}\n",
            "{1: 'One', 2: 'Two', 3: 'Three'}\n",
            "{'Name': 'John', 'Age': 24, 1: [2, 4, 3]}\n",
            "{1: 'One', 2: 'Two'}\n",
            "{1: 'John', 2: 'David'}\n",
            "Sean\n",
            "24\n",
            "Dancing\n",
            "None\n",
            "Original Dictionary: {'Car': 'Audi', 'Bike': 'Honda'}\n",
            "Updated Dictionary: {'Car': 'Audi', 'Bike': 'Ducati'}\n",
            "Updated Dictionary: {'Car': 'Audi', 'Bike': 'Ducati', 'Plane': 'Boeing'}\n",
            "Original Dictionary: {1: 'One', 2: 'Two', 3: 'Three', 4: 'Four', 5: 'Five'}\n",
            "Four\n",
            "Updated Dictionary: {1: 'One', 2: 'Two', 3: 'Three', 5: 'Five'}\n",
            "(5, 'Five')\n",
            "Updated Dictionary: {1: 'One', 2: 'Two', 3: 'Three'}\n",
            "{}\n",
            "{'John': 20, 'Emily': 20, 'Tina': 20}\n",
            "Keys in the dictionary are: ['John', 'Emily', 'Tina']\n",
            "Values in the dictionary are: [20, 20, 20]\n",
            "Age value of John: 20\n",
            "{0: 0, 1: 2, 2: 4, 3: 6, 4: 8}\n",
            "True\n",
            "False\n",
            "True\n",
            "False\n",
            "MBA\n",
            "MS\n",
            "BBA\n",
            "Architecture\n",
            "\n",
            "Sam -> MBA\n",
            "Zac -> MS\n",
            "Lily -> BBA\n",
            "Casey -> Architecture\n"
          ]
        }
      ]
    },
    {
      "cell_type": "markdown",
      "source": [
        "### **Dictionary Done**"
      ],
      "metadata": {
        "id": "tnKhzCDXKcUo"
      }
    },
    {
      "cell_type": "markdown",
      "source": [
        "#**Data Types Done**"
      ],
      "metadata": {
        "id": "Y77U-tPHK692"
      }
    }
  ]
}