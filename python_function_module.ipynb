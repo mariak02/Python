{
  "nbformat": 4,
  "nbformat_minor": 0,
  "metadata": {
    "colab": {
      "provenance": []
    },
    "kernelspec": {
      "name": "python3",
      "display_name": "Python 3"
    },
    "language_info": {
      "name": "python"
    }
  },
  "cells": [
    {
      "cell_type": "markdown",
      "source": [
        "# **Python Function and Module**"
      ],
      "metadata": {
        "id": "90AmX35hcOa0"
      }
    },
    {
      "cell_type": "markdown",
      "source": [
        "## **function**\n",
        "It's a block of code that we can reuse, It increase re-usability in our program.\n",
        "\n",
        "Return use to store the output so that we can further use in our program."
      ],
      "metadata": {
        "id": "uVNb6jS2cXDU"
      }
    },
    {
      "cell_type": "code",
      "execution_count": null,
      "metadata": {
        "colab": {
          "base_uri": "https://localhost:8080/"
        },
        "id": "-ffFO4sWcHg0",
        "outputId": "c4dd6a6a-3f48-460a-ca1e-b62c0eba0019"
      },
      "outputs": [
        {
          "output_type": "stream",
          "name": "stdout",
          "text": [
            "Function Without Parameter\n"
          ]
        },
        {
          "output_type": "execute_result",
          "data": {
            "text/plain": [
              "5"
            ]
          },
          "metadata": {},
          "execution_count": 5
        }
      ],
      "source": [
        "# function\n",
        "def fun():\n",
        "  print('Function Without Parameter')\n",
        "  return 5\n",
        "fun()"
      ]
    },
    {
      "cell_type": "code",
      "source": [
        "# function with positional arguments and with return\n",
        "def fun1(a, b):\n",
        "  return f'total: {a + b}'\n",
        "add = fun1(2, 3)\n",
        "print(add)"
      ],
      "metadata": {
        "colab": {
          "base_uri": "https://localhost:8080/"
        },
        "id": "GU1e6Dlgc4a_",
        "outputId": "b61cea2c-0fde-4349-c7b7-ba2d6cdfe338"
      },
      "execution_count": null,
      "outputs": [
        {
          "output_type": "stream",
          "name": "stdout",
          "text": [
            "total: 5\n"
          ]
        }
      ]
    },
    {
      "cell_type": "code",
      "source": [
        "# function with default parameter\n",
        "def fun2(id, depart='cs'):\n",
        "  return f'id number:{id} is from {depart} department'\n",
        "print(fun2(100))\n",
        "print(fun2(101, 'ec'))"
      ],
      "metadata": {
        "colab": {
          "base_uri": "https://localhost:8080/"
        },
        "id": "9zXvTDwZdSHN",
        "outputId": "3a6d3f46-d5d3-4cd9-c2fb-64a3a2d09322"
      },
      "execution_count": null,
      "outputs": [
        {
          "output_type": "stream",
          "name": "stdout",
          "text": [
            "id number:100 is from cs department\n",
            "id number:101 is from ec department\n"
          ]
        }
      ]
    },
    {
      "cell_type": "code",
      "source": [
        "# function with keyword argument\n",
        "def fun3(a3, b3):\n",
        "  return a3+b3\n",
        "fun3(b3= 10, a3=20)"
      ],
      "metadata": {
        "colab": {
          "base_uri": "https://localhost:8080/"
        },
        "id": "oQ9e2QpDeP4r",
        "outputId": "55d4ccab-adb1-4f1d-8d96-17b47f531dda"
      },
      "execution_count": null,
      "outputs": [
        {
          "output_type": "execute_result",
          "data": {
            "text/plain": [
              "30"
            ]
          },
          "metadata": {},
          "execution_count": 16
        }
      ]
    },
    {
      "cell_type": "code",
      "source": [
        "# function with arbitrary positional arguments\n",
        "def fun4(*args):\n",
        "  sqr = []\n",
        "  for i in args:\n",
        "    n = i**2\n",
        "    sqr.append(n)\n",
        "  return sqr\n",
        "fun4(1, 2, 3, 4, 5, 6, 7)"
      ],
      "metadata": {
        "colab": {
          "base_uri": "https://localhost:8080/"
        },
        "id": "xa5pC-j5fScP",
        "outputId": "1eb5ca0a-1fa3-432a-af97-2a6007f55df3"
      },
      "execution_count": null,
      "outputs": [
        {
          "output_type": "stream",
          "name": "stdout",
          "text": [
            "<class 'tuple'>\n"
          ]
        },
        {
          "output_type": "execute_result",
          "data": {
            "text/plain": [
              "[1, 4, 9, 16, 25, 36, 49]"
            ]
          },
          "metadata": {},
          "execution_count": 14
        }
      ]
    },
    {
      "cell_type": "code",
      "source": [
        "# function with arbitrary Keyword arguments\n",
        "def fun5(**kwargs):\n",
        "  # print(type(kwargs), kwargs)\n",
        "  pair = dict()\n",
        "  for k,v in kwargs.items():\n",
        "    pair[k]=v\n",
        "  return pair\n",
        "# fun5(1='one', 2='two', 3='three') Key should be valid variable name, can't start with number\n",
        "fun5(Name=\"Alexa\", City=\"Delhi\", ph_no=\"9123134567\", PIN=\"400001\")\n",
        "\n"
      ],
      "metadata": {
        "colab": {
          "base_uri": "https://localhost:8080/"
        },
        "id": "cXQrWDc6fdte",
        "outputId": "b15fd784-86c6-43df-bd05-6264c11a1378"
      },
      "execution_count": null,
      "outputs": [
        {
          "output_type": "stream",
          "name": "stdout",
          "text": [
            "<class 'dict'> {'Name': 'Alexa', 'City': 'Delhi', 'ph_no': '9123134567', 'PIN': '400001'}\n"
          ]
        },
        {
          "output_type": "execute_result",
          "data": {
            "text/plain": [
              "{'Name': 'Alexa', 'City': 'Delhi', 'ph_no': '9123134567', 'PIN': '400001'}"
            ]
          },
          "metadata": {},
          "execution_count": 18
        }
      ]
    },
    {
      "cell_type": "code",
      "source": [
        "# function with positional - only arguments  /\n",
        "def fun6(a, /, b):\n",
        "   val = a + b\n",
        "   return val\n",
        "# fun6(a=10, b=20) #throw an error\n",
        "# fun6(20, a=10) #throw an error, bcz b will only take positional args\n",
        "fun6(10, 20)"
      ],
      "metadata": {
        "colab": {
          "base_uri": "https://localhost:8080/"
        },
        "id": "-NOtgb7mjTgr",
        "outputId": "8b7b43c4-768a-4afa-b694-ae89ca92afaf"
      },
      "execution_count": null,
      "outputs": [
        {
          "output_type": "execute_result",
          "data": {
            "text/plain": [
              "30"
            ]
          },
          "metadata": {},
          "execution_count": 23
        }
      ]
    },
    {
      "cell_type": "code",
      "source": [
        "# function with keyword - only arguments  *\n",
        "def fun6(a, *, b):\n",
        "   val = a + b\n",
        "   return val\n",
        "fun6(a=10, b=20)\n",
        "# fun6(20, a=10) #throw an error b should be keyword arg only\n",
        "# fun6(10, 20)  # throw an error"
      ],
      "metadata": {
        "colab": {
          "base_uri": "https://localhost:8080/"
        },
        "id": "BwODvchhjdo_",
        "outputId": "01f00270-fee9-4398-8dfb-eaa148c85e72"
      },
      "execution_count": null,
      "outputs": [
        {
          "output_type": "execute_result",
          "data": {
            "text/plain": [
              "30"
            ]
          },
          "metadata": {},
          "execution_count": 23
        }
      ]
    },
    {
      "cell_type": "code",
      "source": [
        "# orders of parameters in python function\n",
        "\n",
        "def complex_function(positional1, positional2, /, *args, default1=10, default2=\"default\", *, keyword1, **kwargs):\n",
        "    \"\"\"\n",
        "    A function with a mix of different parameter types in the specified order.\n",
        "\n",
        "    Parameters:\n",
        "    - positional1: Positional parameter\n",
        "    - positional2: Positional parameter\n",
        "    - *args: Variable-length positional arguments\n",
        "    - default1: Default parameter with a default value of 10\n",
        "    - default2: Default parameter with a default value of 'default'\n",
        "    - keyword1: Keyword-only parameter\n",
        "    - **kwargs: Variable-length keyword arguments\n",
        "    \"\"\"\n",
        "    result = positional1 + positional2 + default1 + len(args) + len(kwargs)\n",
        "    for key, value in kwargs.items():\n",
        "        result += len(key) + len(value)\n",
        "    return result\n",
        "\n",
        "# Example usage of the complex_function\n",
        "total = complex_function(1, 2, 3, 4, default1=30, keyword1=\"hello\", arg1=\"arg1_value\", arg2=\"arg2_value\")\n",
        "\n",
        "print(total)  # Output: 53 (1 + 2 + 30 + 2 (length of *args) + 18 (length of **kwargs keys and values))\n",
        "\n",
        "\n",
        "\n"
      ],
      "metadata": {
        "id": "z2teJ7CMkhQ0"
      },
      "execution_count": null,
      "outputs": []
    },
    {
      "cell_type": "markdown",
      "source": [
        "# **Variable Scope**\n",
        "### 1. Local\n",
        "### 2. Global"
      ],
      "metadata": {
        "id": "tN1cEQ2TB-z_"
      }
    },
    {
      "cell_type": "code",
      "source": [
        "# using local variable and global variable\n",
        "var = 100\n",
        "def funvar(h):\n",
        "  var = 10  #local\n",
        "  return var+h\n",
        "add = funvar(1)\n",
        "print('inside the function-')\n",
        "print(f'local variable + 1: {add}')\n",
        "print()\n",
        "print('outside the function-')\n",
        "print(f'global variable: {var}')"
      ],
      "metadata": {
        "colab": {
          "base_uri": "https://localhost:8080/"
        },
        "id": "VgucnKCrCJxk",
        "outputId": "18034cca-6c6e-4252-9c39-a2133b4173f3"
      },
      "execution_count": null,
      "outputs": [
        {
          "output_type": "stream",
          "name": "stdout",
          "text": [
            "inside the function-\n",
            "local variable + 1: 11\n",
            "\n",
            "outside the function-\n",
            "global variable: 100\n"
          ]
        }
      ]
    },
    {
      "cell_type": "code",
      "source": [
        "# using global variable inside the function using global keyword\n",
        "var = 100\n",
        "def funvar(h):\n",
        "  global var   # using global variable\n",
        "  var = 200    # changing the value\n",
        "  return var+h\n",
        "add = funvar(1)\n",
        "print('function output:', add)\n",
        "print('updated global keyword:', var)   # value got changed"
      ],
      "metadata": {
        "colab": {
          "base_uri": "https://localhost:8080/"
        },
        "id": "7uzi3CXxGZya",
        "outputId": "4feeea31-bdd6-41d7-e797-1f7d1329c87b"
      },
      "execution_count": null,
      "outputs": [
        {
          "output_type": "stream",
          "name": "stdout",
          "text": [
            "function output: 201\n",
            "updated global keyword: 200\n"
          ]
        }
      ]
    },
    {
      "cell_type": "code",
      "source": [
        "name = 'python'\n",
        "marks = 50\n",
        "result = True\n",
        "def myfunction():\n",
        "   a = 10\n",
        "   b = 20\n",
        "   c = a+b\n",
        "   print (\"globals():\", globals())\n",
        "   print (\"locals():\", locals())\n",
        "   return c\n",
        "myfunction()"
      ],
      "metadata": {
        "colab": {
          "base_uri": "https://localhost:8080/"
        },
        "id": "3ZmXwDuTT-AO",
        "outputId": "1508328e-6a87-4b2a-a698-abdca064c76e"
      },
      "execution_count": null,
      "outputs": [
        {
          "output_type": "stream",
          "name": "stdout",
          "text": [
            "globals(): {'__name__': '__main__', '__doc__': 'Automatically created module for IPython interactive environment', '__package__': None, '__loader__': None, '__spec__': None, '__builtin__': <module 'builtins' (built-in)>, '__builtins__': <module 'builtins' (built-in)>, '_ih': ['', 'var = 100\\ndef funvar(h):\\n  var = 10  #local\\n  return var+h\\nprint(funvar(1))', \"var = 100\\ndef funvar(h):\\n  var = 10  #local\\n  return var+h\\nprint(funvar(1))\\nprint(f'global variable: {var}')\", \"var = 100\\ndef funvar(h):\\n  var = 10  #local\\n  return var+h\\nadd = funvar(1)\\nprint(f'local variable + 1: {add}')\\nprint(f'global variable: {var}')\", \"var = 100\\ndef funvar(h):\\n  var = 10  #local\\n  return var+h\\nadd = funvar(1)\\nprint('inside the function-')\\nprint(f'local variable + 1: {add}')\\nprint('outside the function-')\\nprint(f'global variable: {var}')\", \"var = 100\\ndef funvar(h):\\n  var = 10  #local\\n  return var+h\\nadd = funvar(1)\\nprint('inside the function-')\\nprint(f'local variable + 1: {add}')\\nprint()\\nprint('outside the function-')\\nprint(f'global variable: {var}')\", \"var = 100\\ndef funvar(h):\\n  var = 10  #local\\n  return var+h\\nadd = funvar(1)\\nprint('inside the function-')\\nprint(f'{var} + 1: {add}')\\nprint()\\nprint('outside the function-')\\nprint(f'global variable: {var}')\", \"var = 100\\ndef funvar(h):\\n  var = 10  #local\\n  return var+h\\nadd = funvar(1)\\nprint('inside the function-')\\nprint(f'local variable + 1: {add}')\\nprint()\\nprint('outside the function-')\\nprint(f'global variable: {var}')\", '# using global variable inside the function using global keyword\\nvar = 100\\ndef funvar(h):\\n   var = 10  #local\\n   global var = 100 #global\\n  return var+h+global var\\nadd = funvar(1)', '# using global variable inside the function using global keyword\\nvar = 100\\ndef funvar(h):\\n   var = 10  #local\\n   global var = 100 #global\\n   return var+h+global var\\nadd = funvar(1)\\nprint(add)', '# using global variable inside the function using global keyword\\nvar = 100\\ndef funvar(h):\\n  global var #global\\n  var = 10   #local\\n  return var+h\\nadd = funvar(1)\\nprint(add)', '# using global variable inside the function using global keyword\\nvar = 100\\ndef funvar(h):\\n  global var #global\\n  return var+h\\nadd = funvar(1)\\nprint(add)', '# using global variable inside the function using global keyword\\nvar = 100\\ndef funvar(h):\\n  global var  = 200  #global\\n  return var+h\\nadd = funvar(1)\\nprint(add)', '# using global variable inside the function using global keyword\\nvar = 100\\ndef funvar(h):\\n  global var\\n  return var+h\\nadd = funvar(1)\\nprint(add)', '# using global variable inside the function using global keyword\\nvar = 100\\ndef funvar(h):\\n  global var\\n  var = 200\\n  return var+h\\nadd = funvar(1)\\nprint(add)', '# using global variable inside the function using global keyword\\nvar = 100\\ndef funvar(h):\\n  global var\\n  var = 200\\n  return var+h\\nadd = funvar(1)\\nprint(add)\\nprint(var)', '# using global variable inside the function using global keyword\\nvar = 100\\ndef funvar(h):\\n  global var=300\\n  var = 200\\n  return var+h\\nadd = funvar(1)\\nprint(add)\\nprint(var)', '# using global variable inside the function using global keyword\\nvar = 100\\ndef funvar(h):\\n  global var\\n  var = 200\\n  return var+h\\nadd = funvar(1)\\nprint(add)\\nprint(var)', \"# using global variable inside the function using global keyword\\nvar = 100\\ndef funvar(h):\\n  global var   # using global variable\\n  var = 200    # changing the value\\n  return var+h\\nadd = funvar(1)\\nprint('function output', add)\\nprint('updated global keyword: ', var)   # value got changed\", \"# using global variable inside the function using global keyword\\nvar = 100\\ndef funvar(h):\\n  global var   # using global variable\\n  var = 200    # changing the value\\n  return var+h\\nadd = funvar(1)\\nprint('function output', add)\\nprint('updated global keyword:', var)   # value got changed\", \"# using global variable inside the function using global keyword\\nvar = 100\\ndef funvar(h):\\n  global var   # using global variable\\n  var = 200    # changing the value\\n  return var+h\\nadd = funvar(1)\\nprint('function output', add)\\nprint('updated global keyword:', var)   # value got changed\", \"# using global variable inside the function using global keyword\\nvar = 100\\ndef funvar(h):\\n  global var   # using global variable\\n  var = 200    # changing the value\\n  return var+h\\nadd = funvar(1)\\nprint('function output:', add)\\nprint('updated global keyword:', var)   # value got changed\", \"# using global variable inside the function using global keyword\\nvar = 100\\ndef funvar(h):\\n  global var   # using global variable\\n  var = 200    # changing the value\\n  lvar = 100\\n  return var+h-var\\nadd = funvar(1)\\nprint('function output:', add)\\nprint('updated global keyword:', var)   # value got changed\", \"# using global variable inside the function using global keyword\\nvar = 100\\ndef funvar(h):\\n  global var   # using global variable\\n  var = 200    # changing the value\\n  lvar = 100\\n  return var+h-var\\nadd = funvar(1)\\nprint('function output:', add)\\nprint('updated global keyword:', var)   # value got changed\", \"# using global variable inside the function using global keyword\\nvar = 100\\ndef funvar(h):\\n  global var   # using global variable\\n  var = 200    # changing the value\\n  lvar = 100\\n  return var+h+lvar\\nadd = funvar(1)\\nprint('function output:', add)\\nprint('updated global keyword:', var)   # value got changed\", \"# using global variable inside the function using global keyword\\nvar = 100\\ndef funvar(h):\\n  global var   # using global variable\\n  var = 200    # changing the value\\n  return var+h\\nadd = funvar(1)\\nprint('function output:', add)\\nprint('updated global keyword:', var)   # value got changed\", 'name = \\'python\\'\\nmarks = 50\\nresult = True\\ndef myfunction():\\n   a = 10\\n   b = 20\\n   c = a+b\\n   print (\"globals():\", globals())\\n   print (\"locals():\", locals())\\n   return c\\nmyfunction()'], '_oh': {}, '_dh': ['/content'], 'In': ['', 'var = 100\\ndef funvar(h):\\n  var = 10  #local\\n  return var+h\\nprint(funvar(1))', \"var = 100\\ndef funvar(h):\\n  var = 10  #local\\n  return var+h\\nprint(funvar(1))\\nprint(f'global variable: {var}')\", \"var = 100\\ndef funvar(h):\\n  var = 10  #local\\n  return var+h\\nadd = funvar(1)\\nprint(f'local variable + 1: {add}')\\nprint(f'global variable: {var}')\", \"var = 100\\ndef funvar(h):\\n  var = 10  #local\\n  return var+h\\nadd = funvar(1)\\nprint('inside the function-')\\nprint(f'local variable + 1: {add}')\\nprint('outside the function-')\\nprint(f'global variable: {var}')\", \"var = 100\\ndef funvar(h):\\n  var = 10  #local\\n  return var+h\\nadd = funvar(1)\\nprint('inside the function-')\\nprint(f'local variable + 1: {add}')\\nprint()\\nprint('outside the function-')\\nprint(f'global variable: {var}')\", \"var = 100\\ndef funvar(h):\\n  var = 10  #local\\n  return var+h\\nadd = funvar(1)\\nprint('inside the function-')\\nprint(f'{var} + 1: {add}')\\nprint()\\nprint('outside the function-')\\nprint(f'global variable: {var}')\", \"var = 100\\ndef funvar(h):\\n  var = 10  #local\\n  return var+h\\nadd = funvar(1)\\nprint('inside the function-')\\nprint(f'local variable + 1: {add}')\\nprint()\\nprint('outside the function-')\\nprint(f'global variable: {var}')\", '# using global variable inside the function using global keyword\\nvar = 100\\ndef funvar(h):\\n   var = 10  #local\\n   global var = 100 #global\\n  return var+h+global var\\nadd = funvar(1)', '# using global variable inside the function using global keyword\\nvar = 100\\ndef funvar(h):\\n   var = 10  #local\\n   global var = 100 #global\\n   return var+h+global var\\nadd = funvar(1)\\nprint(add)', '# using global variable inside the function using global keyword\\nvar = 100\\ndef funvar(h):\\n  global var #global\\n  var = 10   #local\\n  return var+h\\nadd = funvar(1)\\nprint(add)', '# using global variable inside the function using global keyword\\nvar = 100\\ndef funvar(h):\\n  global var #global\\n  return var+h\\nadd = funvar(1)\\nprint(add)', '# using global variable inside the function using global keyword\\nvar = 100\\ndef funvar(h):\\n  global var  = 200  #global\\n  return var+h\\nadd = funvar(1)\\nprint(add)', '# using global variable inside the function using global keyword\\nvar = 100\\ndef funvar(h):\\n  global var\\n  return var+h\\nadd = funvar(1)\\nprint(add)', '# using global variable inside the function using global keyword\\nvar = 100\\ndef funvar(h):\\n  global var\\n  var = 200\\n  return var+h\\nadd = funvar(1)\\nprint(add)', '# using global variable inside the function using global keyword\\nvar = 100\\ndef funvar(h):\\n  global var\\n  var = 200\\n  return var+h\\nadd = funvar(1)\\nprint(add)\\nprint(var)', '# using global variable inside the function using global keyword\\nvar = 100\\ndef funvar(h):\\n  global var=300\\n  var = 200\\n  return var+h\\nadd = funvar(1)\\nprint(add)\\nprint(var)', '# using global variable inside the function using global keyword\\nvar = 100\\ndef funvar(h):\\n  global var\\n  var = 200\\n  return var+h\\nadd = funvar(1)\\nprint(add)\\nprint(var)', \"# using global variable inside the function using global keyword\\nvar = 100\\ndef funvar(h):\\n  global var   # using global variable\\n  var = 200    # changing the value\\n  return var+h\\nadd = funvar(1)\\nprint('function output', add)\\nprint('updated global keyword: ', var)   # value got changed\", \"# using global variable inside the function using global keyword\\nvar = 100\\ndef funvar(h):\\n  global var   # using global variable\\n  var = 200    # changing the value\\n  return var+h\\nadd = funvar(1)\\nprint('function output', add)\\nprint('updated global keyword:', var)   # value got changed\", \"# using global variable inside the function using global keyword\\nvar = 100\\ndef funvar(h):\\n  global var   # using global variable\\n  var = 200    # changing the value\\n  return var+h\\nadd = funvar(1)\\nprint('function output', add)\\nprint('updated global keyword:', var)   # value got changed\", \"# using global variable inside the function using global keyword\\nvar = 100\\ndef funvar(h):\\n  global var   # using global variable\\n  var = 200    # changing the value\\n  return var+h\\nadd = funvar(1)\\nprint('function output:', add)\\nprint('updated global keyword:', var)   # value got changed\", \"# using global variable inside the function using global keyword\\nvar = 100\\ndef funvar(h):\\n  global var   # using global variable\\n  var = 200    # changing the value\\n  lvar = 100\\n  return var+h-var\\nadd = funvar(1)\\nprint('function output:', add)\\nprint('updated global keyword:', var)   # value got changed\", \"# using global variable inside the function using global keyword\\nvar = 100\\ndef funvar(h):\\n  global var   # using global variable\\n  var = 200    # changing the value\\n  lvar = 100\\n  return var+h-var\\nadd = funvar(1)\\nprint('function output:', add)\\nprint('updated global keyword:', var)   # value got changed\", \"# using global variable inside the function using global keyword\\nvar = 100\\ndef funvar(h):\\n  global var   # using global variable\\n  var = 200    # changing the value\\n  lvar = 100\\n  return var+h+lvar\\nadd = funvar(1)\\nprint('function output:', add)\\nprint('updated global keyword:', var)   # value got changed\", \"# using global variable inside the function using global keyword\\nvar = 100\\ndef funvar(h):\\n  global var   # using global variable\\n  var = 200    # changing the value\\n  return var+h\\nadd = funvar(1)\\nprint('function output:', add)\\nprint('updated global keyword:', var)   # value got changed\", 'name = \\'python\\'\\nmarks = 50\\nresult = True\\ndef myfunction():\\n   a = 10\\n   b = 20\\n   c = a+b\\n   print (\"globals():\", globals())\\n   print (\"locals():\", locals())\\n   return c\\nmyfunction()'], 'Out': {}, 'get_ipython': <bound method InteractiveShell.get_ipython of <google.colab._shell.Shell object at 0x79abce40e320>>, 'exit': <IPython.core.autocall.ZMQExitAutocall object at 0x79abce40e8c0>, 'quit': <IPython.core.autocall.ZMQExitAutocall object at 0x79abce40e8c0>, '_': '', '__': '', '___': '', '_i': \"# using global variable inside the function using global keyword\\nvar = 100\\ndef funvar(h):\\n  global var   # using global variable\\n  var = 200    # changing the value\\n  return var+h\\nadd = funvar(1)\\nprint('function output:', add)\\nprint('updated global keyword:', var)   # value got changed\", '_ii': \"# using global variable inside the function using global keyword\\nvar = 100\\ndef funvar(h):\\n  global var   # using global variable\\n  var = 200    # changing the value\\n  lvar = 100\\n  return var+h+lvar\\nadd = funvar(1)\\nprint('function output:', add)\\nprint('updated global keyword:', var)   # value got changed\", '_iii': \"# using global variable inside the function using global keyword\\nvar = 100\\ndef funvar(h):\\n  global var   # using global variable\\n  var = 200    # changing the value\\n  lvar = 100\\n  return var+h-var\\nadd = funvar(1)\\nprint('function output:', add)\\nprint('updated global keyword:', var)   # value got changed\", '_i1': 'var = 100\\ndef funvar(h):\\n  var = 10  #local\\n  return var+h\\nprint(funvar(1))', 'var': 200, 'funvar': <function funvar at 0x79ab8ad39e10>, '_i2': \"var = 100\\ndef funvar(h):\\n  var = 10  #local\\n  return var+h\\nprint(funvar(1))\\nprint(f'global variable: {var}')\", '_i3': \"var = 100\\ndef funvar(h):\\n  var = 10  #local\\n  return var+h\\nadd = funvar(1)\\nprint(f'local variable + 1: {add}')\\nprint(f'global variable: {var}')\", 'add': 201, '_i4': \"var = 100\\ndef funvar(h):\\n  var = 10  #local\\n  return var+h\\nadd = funvar(1)\\nprint('inside the function-')\\nprint(f'local variable + 1: {add}')\\nprint('outside the function-')\\nprint(f'global variable: {var}')\", '_i5': \"var = 100\\ndef funvar(h):\\n  var = 10  #local\\n  return var+h\\nadd = funvar(1)\\nprint('inside the function-')\\nprint(f'local variable + 1: {add}')\\nprint()\\nprint('outside the function-')\\nprint(f'global variable: {var}')\", '_i6': \"var = 100\\ndef funvar(h):\\n  var = 10  #local\\n  return var+h\\nadd = funvar(1)\\nprint('inside the function-')\\nprint(f'{var} + 1: {add}')\\nprint()\\nprint('outside the function-')\\nprint(f'global variable: {var}')\", '_i7': \"var = 100\\ndef funvar(h):\\n  var = 10  #local\\n  return var+h\\nadd = funvar(1)\\nprint('inside the function-')\\nprint(f'local variable + 1: {add}')\\nprint()\\nprint('outside the function-')\\nprint(f'global variable: {var}')\", '_i8': '# using global variable inside the function using global keyword\\nvar = 100\\ndef funvar(h):\\n   var = 10  #local\\n   global var = 100 #global\\n  return var+h+global var\\nadd = funvar(1)', '_i10': '# using global variable inside the function using global keyword\\nvar = 100\\ndef funvar(h):\\n   var = 10  #local\\n   global var = 100 #global\\n   return var+h+global var\\nadd = funvar(1)\\nprint(add)', '_i11': '# using global variable inside the function using global keyword\\nvar = 100\\ndef funvar(h):\\n  global var #global\\n  var = 10   #local\\n  return var+h\\nadd = funvar(1)\\nprint(add)', '_i12': '# using global variable inside the function using global keyword\\nvar = 100\\ndef funvar(h):\\n  global var #global\\n  return var+h\\nadd = funvar(1)\\nprint(add)', '_i13': '# using global variable inside the function using global keyword\\nvar = 100\\ndef funvar(h):\\n  global var  = 200  #global\\n  return var+h\\nadd = funvar(1)\\nprint(add)', '_i14': '# using global variable inside the function using global keyword\\nvar = 100\\ndef funvar(h):\\n  global var\\n  return var+h\\nadd = funvar(1)\\nprint(add)', '_i15': '# using global variable inside the function using global keyword\\nvar = 100\\ndef funvar(h):\\n  global var\\n  var = 200\\n  return var+h\\nadd = funvar(1)\\nprint(add)', '_i16': '# using global variable inside the function using global keyword\\nvar = 100\\ndef funvar(h):\\n  global var\\n  var = 200\\n  return var+h\\nadd = funvar(1)\\nprint(add)\\nprint(var)', '_i17': '# using global variable inside the function using global keyword\\nvar = 100\\ndef funvar(h):\\n  global var=300\\n  var = 200\\n  return var+h\\nadd = funvar(1)\\nprint(add)\\nprint(var)', '_i18': '# using global variable inside the function using global keyword\\nvar = 100\\ndef funvar(h):\\n  global var\\n  var = 200\\n  return var+h\\nadd = funvar(1)\\nprint(add)\\nprint(var)', '_i19': \"# using global variable inside the function using global keyword\\nvar = 100\\ndef funvar(h):\\n  global var   # using global variable\\n  var = 200    # changing the value\\n  return var+h\\nadd = funvar(1)\\nprint('function output', add)\\nprint('updated global keyword: ', var)   # value got changed\", '_i20': \"# using global variable inside the function using global keyword\\nvar = 100\\ndef funvar(h):\\n  global var   # using global variable\\n  var = 200    # changing the value\\n  return var+h\\nadd = funvar(1)\\nprint('function output', add)\\nprint('updated global keyword:', var)   # value got changed\", '_i21': \"# using global variable inside the function using global keyword\\nvar = 100\\ndef funvar(h):\\n  global var   # using global variable\\n  var = 200    # changing the value\\n  return var+h\\nadd = funvar(1)\\nprint('function output', add)\\nprint('updated global keyword:', var)   # value got changed\", '_i22': \"# using global variable inside the function using global keyword\\nvar = 100\\ndef funvar(h):\\n  global var   # using global variable\\n  var = 200    # changing the value\\n  return var+h\\nadd = funvar(1)\\nprint('function output:', add)\\nprint('updated global keyword:', var)   # value got changed\", '_i23': \"# using global variable inside the function using global keyword\\nvar = 100\\ndef funvar(h):\\n  global var   # using global variable\\n  var = 200    # changing the value\\n  lvar = 100\\n  return var+h-var\\nadd = funvar(1)\\nprint('function output:', add)\\nprint('updated global keyword:', var)   # value got changed\", '_i24': \"# using global variable inside the function using global keyword\\nvar = 100\\ndef funvar(h):\\n  global var   # using global variable\\n  var = 200    # changing the value\\n  lvar = 100\\n  return var+h-var\\nadd = funvar(1)\\nprint('function output:', add)\\nprint('updated global keyword:', var)   # value got changed\", '_i25': \"# using global variable inside the function using global keyword\\nvar = 100\\ndef funvar(h):\\n  global var   # using global variable\\n  var = 200    # changing the value\\n  lvar = 100\\n  return var+h+lvar\\nadd = funvar(1)\\nprint('function output:', add)\\nprint('updated global keyword:', var)   # value got changed\", '_i26': \"# using global variable inside the function using global keyword\\nvar = 100\\ndef funvar(h):\\n  global var   # using global variable\\n  var = 200    # changing the value\\n  return var+h\\nadd = funvar(1)\\nprint('function output:', add)\\nprint('updated global keyword:', var)   # value got changed\", '_i27': 'name = \\'python\\'\\nmarks = 50\\nresult = True\\ndef myfunction():\\n   a = 10\\n   b = 20\\n   c = a+b\\n   print (\"globals():\", globals())\\n   print (\"locals():\", locals())\\n   return c\\nmyfunction()', 'name': 'python', 'marks': 50, 'result': True, 'myfunction': <function myfunction at 0x79ab8ad39240>}\n",
            "locals(): {'a': 10, 'b': 20, 'c': 30}\n"
          ]
        },
        {
          "output_type": "execute_result",
          "data": {
            "text/plain": [
              "30"
            ]
          },
          "metadata": {},
          "execution_count": 27
        }
      ]
    },
    {
      "cell_type": "markdown",
      "source": [
        "# **Function Annotation**\n",
        "\n",
        "The annotations ignored by Python interpreter while executing the function.\n",
        "\n",
        "Annotation is use to prescribe the data type of the arguments to the programmer.\n",
        "\n",
        "It is mentioned as an expression after putting a colon in front of the argument.\n"
      ],
      "metadata": {
        "id": "zjtjI6gtf1ur"
      }
    },
    {
      "cell_type": "code",
      "source": [
        "def myfunction(a: int, b: int):\n",
        "   c = a+b\n",
        "   return c\n",
        "\n",
        "print (myfunction(10,20))\n",
        "print (myfunction(\"Hello \", \"Python\"))"
      ],
      "metadata": {
        "colab": {
          "base_uri": "https://localhost:8080/"
        },
        "id": "8GZvcxa9f55d",
        "outputId": "ccd054fe-4478-4b92-8905-95dbd0551606"
      },
      "execution_count": null,
      "outputs": [
        {
          "output_type": "stream",
          "name": "stdout",
          "text": [
            "30\n",
            "Hello Python\n"
          ]
        }
      ]
    },
    {
      "cell_type": "code",
      "source": [
        "def myfunction(a: \"physics\", b:\"Maths\" = 20) -> int:\n",
        "   \"\"\"\n",
        "    This is a docstring for my_function.\n",
        "    It provides a description of what the function does, what parameters it expects, and what it returns.\n",
        "    :param param1: Description of the first parameter.\n",
        "    :param param2: Description of the second parameter.\n",
        "    :return: Description of the return value.\n",
        "   \"\"\"\n",
        "   c = a+b\n",
        "   return c\n",
        "print(myfunction(10))\n",
        "print()\n",
        "print (myfunction.__annotations__)\n",
        "print()\n",
        "print(myfunction.__doc__)"
      ],
      "metadata": {
        "colab": {
          "base_uri": "https://localhost:8080/"
        },
        "id": "btb8c3HIprNO",
        "outputId": "56132ed3-7809-4094-f53c-44784675ce71"
      },
      "execution_count": null,
      "outputs": [
        {
          "output_type": "stream",
          "name": "stdout",
          "text": [
            "30\n",
            "\n",
            "{'a': 'physics', 'b': 'Maths', 'return': <class 'int'>}\n",
            "\n",
            "\n",
            "    This is a docstring for my_function.\n",
            "    It provides a description of what the function does, what parameters it expects, and what it returns.\n",
            "    :param param1: Description of the first parameter.\n",
            "    :param param2: Description of the second parameter.\n",
            "    :return: Description of the return value.\n",
            "   \n"
          ]
        }
      ]
    },
    {
      "cell_type": "markdown",
      "source": [
        "# **Module**\n",
        "The concept of module comes from modularity.\n",
        "\n",
        "A module is a python file containing functions, classes, variables, constants or any other Python object.\n",
        "\n",
        "Contents of this file can be available to any other program. using import keyword."
      ],
      "metadata": {
        "id": "8OniJfFSuSOU"
      }
    },
    {
      "cell_type": "code",
      "source": [
        "import math\n",
        "print(math.sqrt(100))\n",
        "print(math.__name__)\n",
        "print(math.__doc__)"
      ],
      "metadata": {
        "colab": {
          "base_uri": "https://localhost:8080/"
        },
        "id": "eQ20PVZeqL_U",
        "outputId": "458e98a1-b786-4967-b370-9fa6f010e9eb"
      },
      "execution_count": null,
      "outputs": [
        {
          "output_type": "stream",
          "name": "stdout",
          "text": [
            "10.0\n",
            "math\n",
            "This module provides access to the mathematical functions\n",
            "defined by the C standard.\n"
          ]
        }
      ]
    },
    {
      "cell_type": "markdown",
      "source": [
        "# **Python Function and Module Done**"
      ],
      "metadata": {
        "id": "vMIp9hOwI2a-"
      }
    }
  ]
}