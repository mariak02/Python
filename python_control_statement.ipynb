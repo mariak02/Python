{
  "nbformat": 4,
  "nbformat_minor": 0,
  "metadata": {
    "colab": {
      "provenance": []
    },
    "kernelspec": {
      "name": "python3",
      "display_name": "Python 3"
    },
    "language_info": {
      "name": "python"
    }
  },
  "cells": [
    {
      "cell_type": "markdown",
      "source": [
        "# **Python Control Statement**\n",
        "#### 1. If Else\n",
        "#### 2. Match Case\n",
        "#### 3. Loops\n",
        "#### 4. Break\n",
        "#### 5. Continue\n",
        "#### 6. Pass"
      ],
      "metadata": {
        "id": "7RWuSM9CKoTi"
      }
    },
    {
      "cell_type": "markdown",
      "source": [
        "## **if else**"
      ],
      "metadata": {
        "id": "PRfEaEJPK1B5"
      }
    },
    {
      "cell_type": "code",
      "execution_count": null,
      "metadata": {
        "colab": {
          "base_uri": "https://localhost:8080/"
        },
        "id": "y-klgmubKkfZ",
        "outputId": "325857fc-1e34-444e-9efa-bd6e583bd15c"
      },
      "outputs": [
        {
          "output_type": "stream",
          "name": "stdout",
          "text": [
            "True\n"
          ]
        }
      ],
      "source": [
        "# if\n",
        "if True:\n",
        "  print('True')"
      ]
    },
    {
      "cell_type": "code",
      "source": [
        "# if-else\n",
        "x = 18\n",
        "if (x > 20):\n",
        "  print('True')\n",
        "else:\n",
        "  print('condition is false')"
      ],
      "metadata": {
        "colab": {
          "base_uri": "https://localhost:8080/"
        },
        "id": "mLLz1JVHLRkj",
        "outputId": "f825a502-e316-4911-dec9-1b667e75ebad"
      },
      "execution_count": null,
      "outputs": [
        {
          "output_type": "stream",
          "name": "stdout",
          "text": [
            "condition is false\n"
          ]
        }
      ]
    },
    {
      "cell_type": "code",
      "source": [
        "# nested if-else-elif (radio button: can execute only one block)\n",
        "if (x > 20):\n",
        "  print('if condition is true')\n",
        "elif (x == 18):\n",
        "  print('true: it is elif')\n",
        "else:\n",
        "  print('False')"
      ],
      "metadata": {
        "colab": {
          "base_uri": "https://localhost:8080/"
        },
        "id": "VqxZlcIRLjgK",
        "outputId": "47dfef1a-7dec-4061-de9e-515abbabce93"
      },
      "execution_count": null,
      "outputs": [
        {
          "output_type": "stream",
          "name": "stdout",
          "text": [
            "true: it is elif\n"
          ]
        }
      ]
    },
    {
      "cell_type": "code",
      "source": [
        "# checking more than one condition (multi selection [checkbox]: can execute more than one block)\n",
        "price = 1200\n",
        "if price == 1200:\n",
        "  print('first condition is true')\n",
        "if price >= 1200:\n",
        "  print('second condition is true')\n",
        "if price > 1000:\n",
        "  print('third condition is also true')\n",
        "else:\n",
        "  print('each condition is false')\n"
      ],
      "metadata": {
        "colab": {
          "base_uri": "https://localhost:8080/"
        },
        "id": "6OA7IaQ8MQWO",
        "outputId": "35e4311c-1b57-4dcd-b2d3-6b7320ae6d6e"
      },
      "execution_count": null,
      "outputs": [
        {
          "output_type": "stream",
          "name": "stdout",
          "text": [
            "first condition is true\n",
            "second condition is true\n",
            "third condition is also true\n"
          ]
        }
      ]
    },
    {
      "cell_type": "markdown",
      "source": [
        "###**Short Hand**"
      ],
      "metadata": {
        "id": "howAEfQKPTEZ"
      }
    },
    {
      "cell_type": "code",
      "source": [
        "# short hand if-else OR ternary operator (conditional expression) using if-else\n",
        "# true if condition else false\n",
        "age = 25\n",
        "True if age >= 18 else False\n",
        "# is_adult = True if age >= 18 else False\n",
        "# print(\"Is the person an adult?\", is_adult)"
      ],
      "metadata": {
        "colab": {
          "base_uri": "https://localhost:8080/"
        },
        "id": "ePufe6a8Nb1t",
        "outputId": "31958796-9cff-4b3e-d290-8bcae67cfb5d"
      },
      "execution_count": null,
      "outputs": [
        {
          "output_type": "execute_result",
          "data": {
            "text/plain": [
              "True"
            ]
          },
          "metadata": {},
          "execution_count": 13
        }
      ]
    },
    {
      "cell_type": "code",
      "source": [
        "# short hand if-elif-else\n",
        "# true if condition else (true if condition else false)\n",
        "grade = 85\n",
        "result = \"A\" if grade >= 90 else (\"B\" if grade >= 80 else \"C\")\n",
        "print(\"Result:\", result)"
      ],
      "metadata": {
        "colab": {
          "base_uri": "https://localhost:8080/"
        },
        "id": "vSvD9-qROty8",
        "outputId": "e0e2206f-6fa3-4146-aee0-b4c2faba38d0"
      },
      "execution_count": null,
      "outputs": [
        {
          "output_type": "stream",
          "name": "stdout",
          "text": [
            "Result: B\n"
          ]
        }
      ]
    },
    {
      "cell_type": "markdown",
      "source": [
        "## **match case** switch case\n",
        "The basic usage of match-case is to compare a variable against one or more values.\n",
        "\n",
        "match **variable_name**:\n",
        "\n",
        "> case '**pattern 1**' : **statement 1**\n",
        "\n",
        "> case 'pattern 2' : statement 2\n",
        "\n",
        "> ...\n",
        "\n",
        "> case 'pattern n' : statement n"
      ],
      "metadata": {
        "id": "sR4XXh0bQRS4"
      }
    },
    {
      "cell_type": "code",
      "source": [
        "# match case\n",
        "def weekday(n):\n",
        "   match n:\n",
        "      case 0: return \"Monday\"\n",
        "      case 1: return \"Tuesday\"\n",
        "      case 2: return \"Wednesday\"\n",
        "      case 3: return \"Thursday\"\n",
        "      case 4: return \"Friday\"\n",
        "      case 5: return \"Saturday\"\n",
        "      case 6: return \"Sunday\"\n",
        "      case _: return \"Invalid day number\"\n",
        "print (weekday(3))\n",
        "print (weekday(6))\n",
        "print (weekday(7))"
      ],
      "metadata": {
        "colab": {
          "base_uri": "https://localhost:8080/"
        },
        "id": "gQZYWU-eQMA5",
        "outputId": "29d62f10-d329-4eab-f7ca-4120eed65a12"
      },
      "execution_count": null,
      "outputs": [
        {
          "output_type": "stream",
          "name": "stdout",
          "text": [
            "Thursday\n",
            "Sunday\n",
            "Invalid day number\n"
          ]
        }
      ]
    },
    {
      "cell_type": "code",
      "source": [
        "# OR [more than one pattern]\n",
        "def access(user):\n",
        "   match user:\n",
        "      case \"admin\" | \"manager\": return \"Full access\"\n",
        "      case \"Guest\": return \"Limited access\"\n",
        "      case _: return \"No access\"\n",
        "print (access(\"manager\"))\n",
        "print (access(\"Guest\"))\n",
        "print (access(\"Ravi\"))"
      ],
      "metadata": {
        "colab": {
          "base_uri": "https://localhost:8080/"
        },
        "id": "CTChXeA0RqI-",
        "outputId": "ac334014-357b-431a-c017-ed712dc34508"
      },
      "execution_count": null,
      "outputs": [
        {
          "output_type": "stream",
          "name": "stdout",
          "text": [
            "Full access\n",
            "Limited access\n",
            "No access\n"
          ]
        }
      ]
    },
    {
      "cell_type": "markdown",
      "source": [
        "## **for loop**"
      ],
      "metadata": {
        "id": "WUw-wIVzSdbJ"
      }
    },
    {
      "cell_type": "code",
      "source": [
        "# for loop\n",
        "num = [1, 2, 3, 4, 5]\n",
        "for i in num:\n",
        "  print(f'value:{i}  index number:{num.index(i)}')"
      ],
      "metadata": {
        "colab": {
          "base_uri": "https://localhost:8080/"
        },
        "id": "rCv7r8MxR1yl",
        "outputId": "a221e699-8c23-4409-da32-99cb62fb5122"
      },
      "execution_count": null,
      "outputs": [
        {
          "output_type": "stream",
          "name": "stdout",
          "text": [
            "value:1  index number:0\n",
            "value:2  index number:1\n",
            "value:3  index number:2\n",
            "value:4  index number:3\n",
            "value:5  index number:4\n"
          ]
        }
      ]
    },
    {
      "cell_type": "code",
      "source": [
        "# for loop with else\n",
        "num = [1, 2, 3, 4, 5]\n",
        "for i in num:\n",
        "  print(f'value:{i}  index number:{num.index(i)}')\n",
        "else:\n",
        "  print('=======================')\n",
        "  print('loop executed successfully')\n",
        "  print('after completing the for loop else will be excute')"
      ],
      "metadata": {
        "colab": {
          "base_uri": "https://localhost:8080/"
        },
        "id": "DaHXb5V9S3xs",
        "outputId": "62eca7ed-5b5a-4342-d1f9-4f9e64b86f4a"
      },
      "execution_count": null,
      "outputs": [
        {
          "output_type": "stream",
          "name": "stdout",
          "text": [
            "value:1  index number:0\n",
            "value:2  index number:1\n",
            "value:3  index number:2\n",
            "value:4  index number:3\n",
            "value:5  index number:4\n",
            "=======================\n",
            "loop executed successfully\n",
            "after completing the for loop else will be excute\n"
          ]
        }
      ]
    },
    {
      "cell_type": "markdown",
      "source": [
        "## **while loop**"
      ],
      "metadata": {
        "id": "X-g8nragVLuh"
      }
    },
    {
      "cell_type": "code",
      "source": [
        "# while loop\n",
        "i = 0\n",
        "while (i <= 10):\n",
        "  print(i, end=' ')\n",
        "  i += 1"
      ],
      "metadata": {
        "colab": {
          "base_uri": "https://localhost:8080/"
        },
        "id": "mIJK6HXbTuPV",
        "outputId": "d664e7b0-d72d-4f83-be70-56f30e906b37"
      },
      "execution_count": null,
      "outputs": [
        {
          "output_type": "stream",
          "name": "stdout",
          "text": [
            "0 1 2 3 4 5 6 7 8 9 10 "
          ]
        }
      ]
    },
    {
      "cell_type": "code",
      "source": [
        "# while loop with else\n",
        "i = 0\n",
        "while (i <= 5):\n",
        "  print(i)\n",
        "  i += 1\n",
        "else:\n",
        "   print('loop is over, now else block is running')"
      ],
      "metadata": {
        "colab": {
          "base_uri": "https://localhost:8080/"
        },
        "id": "teb-m0VMVxma",
        "outputId": "524ef5ee-c001-4c22-de48-5244cff6dc5a"
      },
      "execution_count": null,
      "outputs": [
        {
          "output_type": "stream",
          "name": "stdout",
          "text": [
            "0\n",
            "1\n",
            "2\n",
            "3\n",
            "4\n",
            "5\n",
            "loop is over, now else block is running\n"
          ]
        }
      ]
    },
    {
      "cell_type": "markdown",
      "source": [
        "## **break** terminates the loop"
      ],
      "metadata": {
        "id": "1DOp2F3DWZOy"
      }
    },
    {
      "cell_type": "code",
      "source": [
        "i = 10\n",
        "while (i <= 10):\n",
        "  print(i)\n",
        "  if (i == 8):\n",
        "    break\n",
        "  i -= 1\n",
        "else:\n",
        "   print('loop is break, else will not run')"
      ],
      "metadata": {
        "colab": {
          "base_uri": "https://localhost:8080/"
        },
        "id": "otSz_fAEWAl6",
        "outputId": "10bf0de1-0a38-4fb8-9e1e-9783c08129b2"
      },
      "execution_count": null,
      "outputs": [
        {
          "output_type": "stream",
          "name": "stdout",
          "text": [
            "10\n",
            "9\n",
            "8\n"
          ]
        }
      ]
    },
    {
      "cell_type": "markdown",
      "source": [
        "## **continue**\n",
        "It skips the remaining statements in the current loop and starts the next iteration."
      ],
      "metadata": {
        "id": "gbU-ZZdZX-Ux"
      }
    },
    {
      "cell_type": "code",
      "source": [
        "i = 0\n",
        "while (i <= 5):\n",
        "  i += 1\n",
        "  if (i == 3):\n",
        "    print(f'skip the: {i} and continue with rest')\n",
        "    continue\n",
        "  print(i)\n",
        "else:\n",
        "   print('loop is continue, else is running')"
      ],
      "metadata": {
        "colab": {
          "base_uri": "https://localhost:8080/"
        },
        "id": "mavKC5jsXzPS",
        "outputId": "3fe853b1-f063-4730-9bc3-4f97addf262b"
      },
      "execution_count": null,
      "outputs": [
        {
          "output_type": "stream",
          "name": "stdout",
          "text": [
            "1\n",
            "2\n",
            "skip the: 3 and continue with rest\n",
            "4\n",
            "5\n",
            "6\n",
            "loop is continue, else is running\n"
          ]
        }
      ]
    },
    {
      "cell_type": "markdown",
      "source": [
        "## **pass**\n",
        "pass statement is a null operation.\n",
        "\n",
        "It is used when a statement is required syntactically but we do not want any code to execute."
      ],
      "metadata": {
        "id": "zMBSv45qZLXD"
      }
    },
    {
      "cell_type": "code",
      "source": [
        "if (10 > 2):\n",
        "  pass"
      ],
      "metadata": {
        "id": "R7Xt1M7SYQNn"
      },
      "execution_count": null,
      "outputs": []
    },
    {
      "cell_type": "markdown",
      "source": [
        "# **Python Control Statement Done**"
      ],
      "metadata": {
        "id": "0aZJRdZmb3LJ"
      }
    }
  ]
}